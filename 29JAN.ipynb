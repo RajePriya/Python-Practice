{
 "cells": [
  {
   "cell_type": "code",
   "execution_count": 25,
   "id": "2e36aeac-197e-4fd1-806e-1d6c6ca7e5dc",
   "metadata": {},
   "outputs": [
    {
     "data": {
      "text/plain": [
       "20"
      ]
     },
     "execution_count": 25,
     "metadata": {},
     "output_type": "execute_result"
    }
   ],
   "source": [
    "## Comments\n",
    "## for single we use ##\n",
    "## this is function\n",
    "# this is a comment\n",
    "a=20\n",
    "a"
   ]
  },
  {
   "cell_type": "markdown",
   "id": "f7059d49-a6b2-4a32-a461-a92d74734300",
   "metadata": {},
   "source": [
    "## VARIABLES ASSIGNMENT RULES"
   ]
  },
  {
   "cell_type": "raw",
   "id": "9bf5c90b-1f18-4d2e-9da4-d048a96725ee",
   "metadata": {},
   "source": [
    "Python Variables\n",
    "A Python variable is a named bit of computer memory, keeping track of a value as the code runs.\n",
    "\n",
    "A variable is created with an \"assignment\" equal sign =, with the variable's name on the left and the value it should \n",
    "store on the right:"
   ]
  },
  {
   "cell_type": "code",
   "execution_count": 34,
   "id": "680d464a-bd97-4b02-9a48-f69af0a4b9e6",
   "metadata": {},
   "outputs": [
    {
     "name": "stdout",
     "output_type": "stream",
     "text": [
      "ineuron\n",
      "PWSKILLS\n"
     ]
    }
   ],
   "source": [
    "## variables are case sensitive \n",
    "company='ineuron'\n",
    "Company='PWSKILLS'\n",
    "print(company)\n",
    "print(Company)"
   ]
  },
  {
   "cell_type": "code",
   "execution_count": 2,
   "id": "e962c960-8516-4e01-97dd-9d49707383fb",
   "metadata": {},
   "outputs": [],
   "source": [
    "x = 42"
   ]
  },
  {
   "cell_type": "code",
   "execution_count": 3,
   "id": "5ca04678-f272-4138-bd78-ee62e7d67480",
   "metadata": {},
   "outputs": [],
   "source": [
    "x = 10\n",
    "y = 'hello'\n",
    "y = 'bye'\n",
    "z = y"
   ]
  },
  {
   "cell_type": "code",
   "execution_count": 4,
   "id": "58884c13-46d6-48c4-9ff2-d1cf69e861cc",
   "metadata": {},
   "outputs": [
    {
     "name": "stdout",
     "output_type": "stream",
     "text": [
      "bye\n"
     ]
    }
   ],
   "source": [
    "print(y)"
   ]
  },
  {
   "cell_type": "code",
   "execution_count": 5,
   "id": "aaf131b5-5744-49b1-809e-3be3b6f0494a",
   "metadata": {},
   "outputs": [
    {
     "name": "stdout",
     "output_type": "stream",
     "text": [
      "10\n"
     ]
    }
   ],
   "source": [
    "print(x)"
   ]
  },
  {
   "cell_type": "code",
   "execution_count": 6,
   "id": "84d22c1b-b3d8-424b-8753-d7c17957ca68",
   "metadata": {},
   "outputs": [
    {
     "name": "stdout",
     "output_type": "stream",
     "text": [
      "bye\n"
     ]
    }
   ],
   "source": [
    "print(z)"
   ]
  },
  {
   "cell_type": "code",
   "execution_count": 7,
   "id": "8c8715c9-f5b1-42a9-8b92-1b86f84b4630",
   "metadata": {},
   "outputs": [],
   "source": [
    "x = 10\n",
    "y = 'hello'\n",
    "z = y"
   ]
  },
  {
   "cell_type": "code",
   "execution_count": 8,
   "id": "74dae56e-76eb-465f-be5a-f8177fc41d04",
   "metadata": {},
   "outputs": [
    {
     "name": "stdout",
     "output_type": "stream",
     "text": [
      "hello\n"
     ]
    }
   ],
   "source": [
    "print(y)"
   ]
  },
  {
   "cell_type": "code",
   "execution_count": 9,
   "id": "1003b10e-12a3-49e0-8a46-74284ebd0ded",
   "metadata": {},
   "outputs": [],
   "source": [
    "x = 10\n",
    "y = 'bye'\n",
    "y = 'hello'\n",
    "z = y"
   ]
  },
  {
   "cell_type": "code",
   "execution_count": 10,
   "id": "844e31aa-9c05-4e93-ad3d-b822011e745e",
   "metadata": {},
   "outputs": [
    {
     "name": "stdout",
     "output_type": "stream",
     "text": [
      "hello\n"
     ]
    }
   ],
   "source": [
    "print(y)"
   ]
  },
  {
   "cell_type": "raw",
   "id": "d44b8a6f-ce90-4608-b4d0-b8bec34ff0fc",
   "metadata": {},
   "source": [
    "Things to notice here...\n",
    "\n",
    "1. The assignment x = 10 simply sets x to point to 10.\n",
    "\n",
    "2. The assignment y = 'hello' sets y to point to 'hello'. Then the line y = 'bye' changes y to point to 'bye', overwriting \n",
    "the first pointer. Assigning a variable overwrites any existing pointer that variable had. Each assignment is like the\n",
    "phrase \"now point to\" — the variable now points to the new thing, and any previous setting is forgotten.\n",
    "\n",
    "3. Assignment between two variables like z = y, sets z to point to the same thing as y. Now they both point to the same \n",
    "value. It does not set one variable to point to the other variable, although the code does kind of look like that. It also\n",
    "does not set up a permanent relationship between the variables, like they must always be the same now. Confusingly, in\n",
    "mathematics writing the symbol = does set up a permanent relationship. In code, z = y has a very limited meaning: \n",
    "    set z to point to what y points to at this moment."
   ]
  },
  {
   "cell_type": "code",
   "execution_count": 13,
   "id": "9d28f5ab-a081-419c-a59f-67b937fbc401",
   "metadata": {},
   "outputs": [],
   "source": [
    "x = 10\n",
    "y = 'heelo'\n",
    "z = 'bye'\n"
   ]
  },
  {
   "cell_type": "code",
   "execution_count": 14,
   "id": "cf68c24a-c11f-4f4b-9cee-3525f562518f",
   "metadata": {},
   "outputs": [
    {
     "name": "stdout",
     "output_type": "stream",
     "text": [
      "heelo\n"
     ]
    }
   ],
   "source": [
    "print(y)"
   ]
  },
  {
   "cell_type": "code",
   "execution_count": 15,
   "id": "0264b268-b7bb-48ab-a2a8-0d7c1fdb1105",
   "metadata": {},
   "outputs": [
    {
     "name": "stdout",
     "output_type": "stream",
     "text": [
      "bye\n"
     ]
    }
   ],
   "source": [
    "print(z)"
   ]
  },
  {
   "cell_type": "code",
   "execution_count": 16,
   "id": "b9af5eae-55f1-46d0-bad1-c0d3140e5e35",
   "metadata": {},
   "outputs": [
    {
     "name": "stdout",
     "output_type": "stream",
     "text": [
      "10\n"
     ]
    }
   ],
   "source": [
    "print(x)"
   ]
  },
  {
   "cell_type": "raw",
   "id": "e975821e-dfe2-408a-84c8-a926c49d0029",
   "metadata": {},
   "source": [
    "As Python runs, many operations depend on this feature, treating a value appropriately depending on its type. \n",
    "See here how the + operator behaves differently if it is given int vs. str values:"
   ]
  },
  {
   "cell_type": "code",
   "execution_count": 17,
   "id": "4b6323e8-e912-4bd8-a24b-ee2d42b3afc5",
   "metadata": {},
   "outputs": [
    {
     "data": {
      "text/plain": [
       "3"
      ]
     },
     "execution_count": 17,
     "metadata": {},
     "output_type": "execute_result"
    }
   ],
   "source": [
    "## int vales\n",
    ">>> 1+2"
   ]
  },
  {
   "cell_type": "code",
   "execution_count": 18,
   "id": "60c52bb3-9e23-4be8-960c-5eb1ea9318ca",
   "metadata": {},
   "outputs": [
    {
     "data": {
      "text/plain": [
       "'ab'"
      ]
     },
     "execution_count": 18,
     "metadata": {},
     "output_type": "execute_result"
    }
   ],
   "source": [
    "## str values\n",
    ">>> 'a'+'b'"
   ]
  },
  {
   "cell_type": "code",
   "execution_count": 19,
   "id": "62aa2749-a244-4148-a0b8-7424b37bdf33",
   "metadata": {},
   "outputs": [
    {
     "data": {
      "text/plain": [
       "'34'"
      ]
     },
     "execution_count": 19,
     "metadata": {},
     "output_type": "execute_result"
    }
   ],
   "source": [
    "## str that look like int\n",
    ">>> '3'+'4'"
   ]
  },
  {
   "cell_type": "markdown",
   "id": "598fd51f-b79f-461c-9311-3a875f824318",
   "metadata": {},
   "source": [
    "### Variable swap"
   ]
  },
  {
   "cell_type": "code",
   "execution_count": 20,
   "id": "049e47fb-97dc-4f36-af21-40bb23e85d7f",
   "metadata": {},
   "outputs": [],
   "source": [
    "a = 42\n",
    "b = 13"
   ]
  },
  {
   "cell_type": "raw",
   "id": "0800c8f1-9b5c-4dc7-a79a-57751d21719c",
   "metadata": {},
   "source": [
    "It might seem that one can begin with a = b, but this does not work, since it overwrites and thus loses the original value \n",
    "of a. The classic 3-line solution uses a temporary variable named \"temp\" to hold this value during the swap, like this:"
   ]
  },
  {
   "cell_type": "code",
   "execution_count": 21,
   "id": "557e6a66-0e98-492c-8b62-d251b36f6ca9",
   "metadata": {},
   "outputs": [],
   "source": [
    "temp = a\n",
    "a = b\n",
    "b = temp"
   ]
  },
  {
   "cell_type": "code",
   "execution_count": 22,
   "id": "d7a0c764-c399-483a-a210-81fa9e4702df",
   "metadata": {},
   "outputs": [
    {
     "data": {
      "text/plain": [
       "42"
      ]
     },
     "execution_count": 22,
     "metadata": {},
     "output_type": "execute_result"
    }
   ],
   "source": [
    "temp"
   ]
  },
  {
   "cell_type": "code",
   "execution_count": 23,
   "id": "f584fa21-505a-4079-9192-6cdae39ef68f",
   "metadata": {},
   "outputs": [
    {
     "name": "stdout",
     "output_type": "stream",
     "text": [
      "13\n"
     ]
    }
   ],
   "source": [
    "print(a)"
   ]
  },
  {
   "cell_type": "code",
   "execution_count": 24,
   "id": "c1ac5afb-859d-4ec7-9939-ffb692959836",
   "metadata": {},
   "outputs": [
    {
     "name": "stdout",
     "output_type": "stream",
     "text": [
      "42\n"
     ]
    }
   ],
   "source": [
    "print(b)"
   ]
  },
  {
   "cell_type": "markdown",
   "id": "62fd7f9e-d035-45f7-90a6-3eb76e9267d5",
   "metadata": {},
   "source": [
    "### Variable Names are Superficial Labels"
   ]
  },
  {
   "cell_type": "code",
   "execution_count": 25,
   "id": "eaed9627-7637-4b8e-9263-c37f3f213118",
   "metadata": {},
   "outputs": [
    {
     "data": {
      "text/plain": [
       "12"
      ]
     },
     "execution_count": 25,
     "metadata": {},
     "output_type": "execute_result"
    }
   ],
   "source": [
    ">>> x = 6\n",
    ">>> y = x + x\n",
    ">>> y"
   ]
  },
  {
   "cell_type": "code",
   "execution_count": 26,
   "id": "9bdfe1de-b70d-4a6a-95e7-fd3c363fca79",
   "metadata": {},
   "outputs": [
    {
     "data": {
      "text/plain": [
       "12"
      ]
     },
     "execution_count": 26,
     "metadata": {},
     "output_type": "execute_result"
    }
   ],
   "source": [
    ">>> alice = 6\n",
    ">>> bob = alice + alice\n",
    ">>> bob"
   ]
  },
  {
   "cell_type": "code",
   "execution_count": null,
   "id": "8faa8768-2cd3-4952-a57e-6c0c646589b3",
   "metadata": {},
   "outputs": [],
   "source": [
    "This is exactly the same computation, just using different variable names. What matters in a computation is the \n",
    "structure — which value is used at each spot in the computation, not the words chosen. The variable names are just \n",
    "arbitrary labels, tying together the different parts on the computation. If we change a variable name consistently \n",
    "throughout the code, the computation will work the same. Python is not looking at the variable names and thinking about\n",
    "what those English words mean.\n",
    "\n",
    "That said, though variable names are meaningless to Python, good code uses meaningful variable names to help the programmer\n",
    "keep their ideas straight a they write and edit the code."
   ]
  },
  {
   "cell_type": "markdown",
   "id": "64e6a6b3-a914-441b-ae2c-3e037e31fed4",
   "metadata": {},
   "source": [
    "### decimal_num"
   ]
  },
  {
   "cell_type": "code",
   "execution_count": 1,
   "id": "26419ed9-7893-46b3-8a3b-7182f8767178",
   "metadata": {},
   "outputs": [
    {
     "name": "stdout",
     "output_type": "stream",
     "text": [
      "25.3599999999999994315658113919198513031005859375\n",
      "Square Root is: 5.035871324805668565859161094\n",
      "e^x is: 103206740212.7314661465187086\n"
     ]
    }
   ],
   "source": [
    "#Perform sqrt() and exp() methods\n",
    "import decimal\n",
    "my_dec = decimal.Decimal(25.36)\n",
    "print(my_dec)\n",
    "#Find Square Root of the decimal number\n",
    "print('Square Root is: ' + str(my_dec.sqrt()))\n",
    "#Find e^x for the decimal number\n",
    "print('e^x is: ' + str(my_dec.exp()))"
   ]
  },
  {
   "cell_type": "code",
   "execution_count": 2,
   "id": "c4fc9b7a-1da1-4785-a390-a40fabaf5b5e",
   "metadata": {},
   "outputs": [],
   "source": [
    "decimal_num=2.5"
   ]
  },
  {
   "cell_type": "code",
   "execution_count": 3,
   "id": "6bc488d5-e6d8-445b-ad3a-59c5c5655e6c",
   "metadata": {},
   "outputs": [
    {
     "data": {
      "text/plain": [
       "2.5"
      ]
     },
     "execution_count": 3,
     "metadata": {},
     "output_type": "execute_result"
    }
   ],
   "source": [
    "decimal_num"
   ]
  },
  {
   "cell_type": "markdown",
   "id": "d9f5497d-7112-4516-bf76-bfc29bce51b2",
   "metadata": {},
   "source": [
    "### Float"
   ]
  },
  {
   "cell_type": "raw",
   "id": "698a68d0-5d5c-4eac-8dfc-0be8d8c8ae5b",
   "metadata": {},
   "source": [
    "Float is a function or reusable code in the Python programming language that converts values into floating point numbers. Floating point numbers are\n",
    "decimal values or fractional numbers like 133.5, 2897.11, and 3571.213, whereas real numbers like 56, 2, and 33 are called integers."
   ]
  },
  {
   "cell_type": "code",
   "execution_count": 4,
   "id": "1408df80-278a-44f9-b107-e3ff11b5d0b2",
   "metadata": {},
   "outputs": [],
   "source": [
    "x = float(56)"
   ]
  },
  {
   "cell_type": "code",
   "execution_count": 5,
   "id": "c86da375-8767-4244-86c9-5886c0b59f30",
   "metadata": {},
   "outputs": [
    {
     "name": "stdout",
     "output_type": "stream",
     "text": [
      "56.0\n"
     ]
    }
   ],
   "source": [
    "print(x)"
   ]
  },
  {
   "cell_type": "code",
   "execution_count": 6,
   "id": "05e7f313-e7ed-40d0-990e-cb0a14f8a0e5",
   "metadata": {},
   "outputs": [],
   "source": [
    "## Ex-2\n",
    "x = float(15)"
   ]
  },
  {
   "cell_type": "code",
   "execution_count": 8,
   "id": "44ad185b-5e7d-444d-9839-e8983b322c0a",
   "metadata": {},
   "outputs": [
    {
     "name": "stdout",
     "output_type": "stream",
     "text": [
      "15.0\n"
     ]
    }
   ],
   "source": [
    "print(x)"
   ]
  },
  {
   "cell_type": "code",
   "execution_count": 10,
   "id": "484406ae-f82c-4092-9fe8-4ffbb71e4887",
   "metadata": {},
   "outputs": [
    {
     "name": "stdout",
     "output_type": "stream",
     "text": [
      "67.0\n"
     ]
    }
   ],
   "source": [
    "print(float(67))"
   ]
  },
  {
   "cell_type": "code",
   "execution_count": 11,
   "id": "2b470d24-f8d5-4afb-b814-2b52f3cee561",
   "metadata": {},
   "outputs": [],
   "source": [
    "## Ex-3\n",
    "x = float(78.9)"
   ]
  },
  {
   "cell_type": "code",
   "execution_count": 12,
   "id": "41922426-dc56-49a0-bdf7-7ce384611d51",
   "metadata": {},
   "outputs": [
    {
     "name": "stdout",
     "output_type": "stream",
     "text": [
      "78.9\n"
     ]
    }
   ],
   "source": [
    "print(x)"
   ]
  },
  {
   "cell_type": "code",
   "execution_count": 13,
   "id": "97033096-1b8f-4a60-badb-0064259ac8af",
   "metadata": {},
   "outputs": [
    {
     "name": "stdout",
     "output_type": "stream",
     "text": [
      "24.22\n"
     ]
    }
   ],
   "source": [
    "print(float(24.22))"
   ]
  },
  {
   "cell_type": "raw",
   "id": "aa781a41-6d0c-449b-9d36-a235ddbc7767",
   "metadata": {},
   "source": [
    "## Complex "
   ]
  },
  {
   "cell_type": "code",
   "execution_count": 27,
   "id": "b52f2d75-e12d-4d02-8cfe-4b279e8f24f3",
   "metadata": {},
   "outputs": [],
   "source": [
    "x = complex('3+5j')"
   ]
  },
  {
   "cell_type": "code",
   "execution_count": 28,
   "id": "57d31ab4-deca-4da9-8013-261ab97da378",
   "metadata": {},
   "outputs": [
    {
     "name": "stdout",
     "output_type": "stream",
     "text": [
      "(3+5j)\n"
     ]
    }
   ],
   "source": [
    "print(x)"
   ]
  },
  {
   "cell_type": "markdown",
   "id": "488fba99-6efb-4be0-9315-00aefb68dc2f",
   "metadata": {},
   "source": [
    "### Reversed kekywords"
   ]
  },
  {
   "cell_type": "raw",
   "id": "9971f318-15a7-4abc-93b2-270672297992",
   "metadata": {},
   "source": [
    "## The reversed() method computes the reverse of a given sequence object and returns it in the form of a list."
   ]
  },
  {
   "cell_type": "code",
   "execution_count": 31,
   "id": "d71bd573-2281-4235-82b7-4fd22dabe271",
   "metadata": {},
   "outputs": [
    {
     "name": "stdout",
     "output_type": "stream",
     "text": [
      "['n', 'o', 'h', 't', 'y', 'P']\n"
     ]
    }
   ],
   "source": [
    "# Ex-1\n",
    "seq_string = 'Python'\n",
    "\n",
    "# reverse of a string\n",
    "print(list(reversed(seq_string)))"
   ]
  },
  {
   "cell_type": "code",
   "execution_count": 32,
   "id": "3975c06e-b6d3-41be-a54f-8f21942c8ecc",
   "metadata": {},
   "outputs": [
    {
     "data": {
      "text/plain": [
       "'\\nint,float,len,complex,bool,str,return,yeild\\n'"
      ]
     },
     "execution_count": 32,
     "metadata": {},
     "output_type": "execute_result"
    }
   ],
   "source": [
    "## reversed keywords\n",
    "'''\n",
    "int,float,len,complex,bool,str,return,yeild\n",
    "'''"
   ]
  },
  {
   "cell_type": "markdown",
   "id": "9e2c261c-3b4c-4d50-9017-272ad44b9fd2",
   "metadata": {},
   "source": [
    "### Boolean"
   ]
  },
  {
   "cell_type": "raw",
   "id": "aff24a31-d4de-4474-a5de-315cdeab80fe",
   "metadata": {},
   "source": [
    "Booleans represent one of two values: True or False."
   ]
  },
  {
   "cell_type": "code",
   "execution_count": 35,
   "id": "a8042581-6331-4dca-99d7-3367e7576184",
   "metadata": {},
   "outputs": [
    {
     "name": "stdout",
     "output_type": "stream",
     "text": [
      "True\n",
      "False\n",
      "False\n"
     ]
    }
   ],
   "source": [
    "# Ex-1\n",
    "print(10 > 9)\n",
    "print(10 == 9)\n",
    "print(10 < 9)"
   ]
  },
  {
   "cell_type": "code",
   "execution_count": 36,
   "id": "4d18bfea-a934-422b-87cd-c5f4bcd2822a",
   "metadata": {},
   "outputs": [],
   "source": [
    "# Ex-2\n",
    "a = 200\n",
    "b = 33"
   ]
  },
  {
   "cell_type": "code",
   "execution_count": 38,
   "id": "89a1d4ae-577e-4710-bdfc-ba282e100ea9",
   "metadata": {},
   "outputs": [
    {
     "name": "stdout",
     "output_type": "stream",
     "text": [
      "b is not greater than a\n"
     ]
    }
   ],
   "source": [
    "if b > a:\n",
    "    print(\"b is greater than a\")\n",
    "else:\n",
    "    print(\"b is not greater than a\")"
   ]
  },
  {
   "cell_type": "raw",
   "id": "65ed3349-ba53-44fb-9a51-ad0440f27260",
   "metadata": {},
   "source": [
    "Evaluate Values and Variables\n",
    "The bool() function allows you to evaluate any value, and give you True or False in return\n",
    "# Ex-3"
   ]
  },
  {
   "cell_type": "code",
   "execution_count": 39,
   "id": "08f42834-5b85-46df-b3b9-d696cc34f1f0",
   "metadata": {},
   "outputs": [
    {
     "name": "stdout",
     "output_type": "stream",
     "text": [
      "True\n",
      "True\n"
     ]
    }
   ],
   "source": [
    "print(bool(\"Hello\"))\n",
    "print(bool(15))"
   ]
  },
  {
   "cell_type": "raw",
   "id": "bfe494b4-b254-4591-a420-1df9e42ea328",
   "metadata": {},
   "source": [
    "# Ex-4"
   ]
  },
  {
   "cell_type": "code",
   "execution_count": 40,
   "id": "ee4a5ead-9b55-41ae-8f30-be7e0e934b4d",
   "metadata": {},
   "outputs": [],
   "source": [
    "x = \"Hello\"\n",
    "y = 15"
   ]
  },
  {
   "cell_type": "code",
   "execution_count": 41,
   "id": "ae6939d9-2d1d-49fb-88a9-6567fb0414c9",
   "metadata": {},
   "outputs": [
    {
     "name": "stdout",
     "output_type": "stream",
     "text": [
      "True\n",
      "True\n"
     ]
    }
   ],
   "source": [
    "print(bool(x))\n",
    "print(bool(y))"
   ]
  },
  {
   "cell_type": "raw",
   "id": "5c5abb51-7879-42e0-802c-39697bdecb22",
   "metadata": {},
   "source": [
    "Most Values are True\n",
    "Almost any value is evaluated to True if it has some sort of content.\n",
    "\n",
    "Any string is True, except empty strings.\n",
    "\n",
    "Any number is True, except 0.\n",
    "\n",
    "Any list, tuple, set, and dictionary are True, except empty ones."
   ]
  },
  {
   "cell_type": "code",
   "execution_count": 42,
   "id": "11f3b50f-ddbf-479d-9816-829fe2e17a8d",
   "metadata": {},
   "outputs": [
    {
     "data": {
      "text/plain": [
       "True"
      ]
     },
     "execution_count": 42,
     "metadata": {},
     "output_type": "execute_result"
    }
   ],
   "source": [
    "bool(\"abc\")\n",
    "bool(123)\n",
    "bool([\"apple\", \"cherry\", \"banana\"])"
   ]
  },
  {
   "cell_type": "raw",
   "id": "af44cdc2-4930-4f96-9f47-3b4e16022bc3",
   "metadata": {},
   "source": [
    "Some Values are False\n",
    "In fact, there are not many values that evaluate to False, except empty values, such as (), [], {}, \"\", the \n",
    "number 0, and the value None. And of course the value False evaluates to False."
   ]
  },
  {
   "cell_type": "code",
   "execution_count": 43,
   "id": "3def1b29-be1a-44c7-8d63-ad3a6c97eb93",
   "metadata": {},
   "outputs": [
    {
     "data": {
      "text/plain": [
       "False"
      ]
     },
     "execution_count": 43,
     "metadata": {},
     "output_type": "execute_result"
    }
   ],
   "source": [
    "bool(False)\n",
    "bool(None)\n",
    "bool(0)\n",
    "bool(\"\")\n",
    "bool(())\n",
    "bool([])\n",
    "bool({})"
   ]
  },
  {
   "cell_type": "raw",
   "id": "97a1aa27-f7d1-4805-b07f-777009c4f350",
   "metadata": {},
   "source": [
    "One more value, or object in this case, evaluates to False, and that is if you have an object that is made \n",
    "from a class with a __len__ function that returns 0 or False:"
   ]
  },
  {
   "cell_type": "code",
   "execution_count": 48,
   "id": "197edab9-5fe0-4ae4-ae32-8e60bd5ed942",
   "metadata": {},
   "outputs": [
    {
     "name": "stdout",
     "output_type": "stream",
     "text": [
      "False\n"
     ]
    }
   ],
   "source": [
    "class myclass():\n",
    " def __len__(self):\n",
    "    return 0\n",
    "\n",
    "myobj = myclass()\n",
    "print(bool(myobj))"
   ]
  },
  {
   "cell_type": "raw",
   "id": "d4f8ce39-6848-4d20-9a30-c651039fe52b",
   "metadata": {},
   "source": [
    "Functions can Return a Boolean"
   ]
  },
  {
   "cell_type": "code",
   "execution_count": 49,
   "id": "36cc5c85-ff25-441a-82d6-e202742e45de",
   "metadata": {},
   "outputs": [
    {
     "name": "stdout",
     "output_type": "stream",
     "text": [
      "True\n"
     ]
    }
   ],
   "source": [
    "def myFunction() :\n",
    "  return True\n",
    "\n",
    "print(myFunction())"
   ]
  },
  {
   "cell_type": "raw",
   "id": "002a32c6-b1b9-464c-8e71-eadbfb9b2267",
   "metadata": {},
   "source": [
    "We can execute code based on the Boolean answer of a function:"
   ]
  },
  {
   "cell_type": "code",
   "execution_count": 50,
   "id": "bdd5df1c-d22c-4b23-b155-7da6da11ca3b",
   "metadata": {},
   "outputs": [
    {
     "name": "stdout",
     "output_type": "stream",
     "text": [
      "YES!\n"
     ]
    }
   ],
   "source": [
    "def myFunction() :\n",
    "    return True\n",
    "\n",
    "if myFunction() :\n",
    "    print(\"YES!\")\n",
    "else:\n",
    "    print(\"NO!\")"
   ]
  },
  {
   "cell_type": "raw",
   "id": "2faa0d85-6aca-44d3-848e-4aaf3b9b87b9",
   "metadata": {},
   "source": [
    "Python also has many built-in functions that return a boolean value, like the isinstance() function,\n",
    "which can be used to determine if an object is of a certain data type:"
   ]
  },
  {
   "cell_type": "code",
   "execution_count": 51,
   "id": "f4fad782-75a7-4ed7-8f15-5730c43313cd",
   "metadata": {},
   "outputs": [
    {
     "name": "stdout",
     "output_type": "stream",
     "text": [
      "True\n"
     ]
    }
   ],
   "source": [
    "x = 200\n",
    "print(isinstance(x, int))"
   ]
  },
  {
   "cell_type": "markdown",
   "id": "cf65c778-0afb-406f-ab45-b1496dbc05b9",
   "metadata": {},
   "source": [
    "## Type Casting"
   ]
  },
  {
   "cell_type": "raw",
   "id": "93276d4e-68a7-4fed-ba40-20d7a646fcec",
   "metadata": {},
   "source": [
    "There may be times when you want to specify a type on to a variable. This can be done with casting. Python is an object-orientated language, and as such it uses classes to define data types, including its primitive types.\n",
    "\n",
    "Casting in python is therefore done using constructor functions:\n",
    "\n",
    "=> int() - constructs an integer number from an integer literal, a float literal (by removing all decimals), or a \n",
    "string literal (providing the string represents a whole number)\n",
    "=> float() - constructs a float number from an integer literal, a float literal or a string literal\n",
    "(providing the string represents a float or an integer)\n",
    "=> str() - constructs a string from a wide variety of data types, including strings, integer literals \n",
    "and float literals"
   ]
  },
  {
   "cell_type": "code",
   "execution_count": 52,
   "id": "e8bdf81b-cd61-464d-b2ca-ffb396764215",
   "metadata": {},
   "outputs": [],
   "source": [
    "# Ex-1 int\n",
    "x = int(1)   # x will be 1\n",
    "y = int(2.8) # y will be 2\n",
    "z = int(\"3\") # z will be 3"
   ]
  },
  {
   "cell_type": "code",
   "execution_count": 53,
   "id": "f15e966b-7ec2-4550-be8b-d88119e9b5aa",
   "metadata": {},
   "outputs": [
    {
     "name": "stdout",
     "output_type": "stream",
     "text": [
      "1\n"
     ]
    }
   ],
   "source": [
    "print(x)"
   ]
  },
  {
   "cell_type": "code",
   "execution_count": 54,
   "id": "90aa9ab0-7e09-476e-8419-8a204d524fd2",
   "metadata": {},
   "outputs": [
    {
     "name": "stdout",
     "output_type": "stream",
     "text": [
      "2\n"
     ]
    }
   ],
   "source": [
    "print(y)"
   ]
  },
  {
   "cell_type": "code",
   "execution_count": 55,
   "id": "88ccc8a2-f736-4b96-8ef2-b15142f5fbb0",
   "metadata": {},
   "outputs": [
    {
     "name": "stdout",
     "output_type": "stream",
     "text": [
      "3\n"
     ]
    }
   ],
   "source": [
    "print(z)"
   ]
  },
  {
   "cell_type": "code",
   "execution_count": 56,
   "id": "29235dd5-89a3-4803-8d9b-26c87f650edb",
   "metadata": {},
   "outputs": [],
   "source": [
    "# Ex-2 float\n",
    "x = float(1)\n",
    "y = float(2.8)\n",
    "z = float(\"3\") \n",
    "w = float(\"4.2\")"
   ]
  },
  {
   "cell_type": "code",
   "execution_count": 57,
   "id": "c699787e-353f-4812-87e9-c20b3aacb100",
   "metadata": {},
   "outputs": [
    {
     "name": "stdout",
     "output_type": "stream",
     "text": [
      "1.0\n"
     ]
    }
   ],
   "source": [
    "print(x)"
   ]
  },
  {
   "cell_type": "code",
   "execution_count": 58,
   "id": "42899536-b633-4710-8037-57f5258ca274",
   "metadata": {},
   "outputs": [
    {
     "name": "stdout",
     "output_type": "stream",
     "text": [
      "2.8\n"
     ]
    }
   ],
   "source": [
    "print(y)"
   ]
  },
  {
   "cell_type": "code",
   "execution_count": 59,
   "id": "3eba7611-36e3-4a03-8a4d-0186b439c5c8",
   "metadata": {},
   "outputs": [
    {
     "name": "stdout",
     "output_type": "stream",
     "text": [
      "3.0\n"
     ]
    }
   ],
   "source": [
    "print(z)"
   ]
  },
  {
   "cell_type": "code",
   "execution_count": 60,
   "id": "c6efdcc8-b2ef-443d-87a7-25ab6a1b3f7d",
   "metadata": {},
   "outputs": [
    {
     "name": "stdout",
     "output_type": "stream",
     "text": [
      "4.2\n"
     ]
    }
   ],
   "source": [
    "print(w)"
   ]
  },
  {
   "cell_type": "code",
   "execution_count": 61,
   "id": "e9a78a65-77a7-4e73-a0d9-70a22a709edb",
   "metadata": {},
   "outputs": [],
   "source": [
    "# Ex-3 strings\n",
    "x = str(\"s1\")\n",
    "y = str(2)\n",
    "z = str(3.0)"
   ]
  },
  {
   "cell_type": "code",
   "execution_count": 62,
   "id": "9014a425-7ffb-40f7-8337-5a16de947510",
   "metadata": {},
   "outputs": [
    {
     "name": "stdout",
     "output_type": "stream",
     "text": [
      "s1\n"
     ]
    }
   ],
   "source": [
    "print(x)"
   ]
  },
  {
   "cell_type": "code",
   "execution_count": 63,
   "id": "eab09e13-22d8-4c16-a467-0042a91fa88c",
   "metadata": {},
   "outputs": [
    {
     "name": "stdout",
     "output_type": "stream",
     "text": [
      "2\n"
     ]
    }
   ],
   "source": [
    "print(y)"
   ]
  },
  {
   "cell_type": "code",
   "execution_count": 64,
   "id": "e61e3444-5eef-4e5b-8730-ca8e2e8f8efe",
   "metadata": {},
   "outputs": [
    {
     "name": "stdout",
     "output_type": "stream",
     "text": [
      "3.0\n"
     ]
    }
   ],
   "source": [
    "print(z)"
   ]
  },
  {
   "cell_type": "markdown",
   "id": "75d1b240-c64c-4df8-ae41-4e513ed9c847",
   "metadata": {},
   "source": [
    "## Dynamic Typing"
   ]
  },
  {
   "cell_type": "code",
   "execution_count": 65,
   "id": "e09e5022-946c-45ac-ab18-f2103ce11da0",
   "metadata": {},
   "outputs": [
    {
     "name": "stdout",
     "output_type": "stream",
     "text": [
      "<class 'float'>\n"
     ]
    }
   ],
   "source": [
    "# Ex-1\n",
    "a = 12.0\n",
    "print(type(a))"
   ]
  },
  {
   "cell_type": "code",
   "execution_count": 66,
   "id": "89e2b810-84d6-4d4b-8ea3-fc10416b65e1",
   "metadata": {},
   "outputs": [
    {
     "name": "stdout",
     "output_type": "stream",
     "text": [
      "<class 'int'>\n"
     ]
    }
   ],
   "source": [
    "b = 24\n",
    "print(type(b))"
   ]
  },
  {
   "cell_type": "code",
   "execution_count": 67,
   "id": "bb7b8f50-9ed4-4a1f-aca3-412858c43a96",
   "metadata": {},
   "outputs": [
    {
     "name": "stdout",
     "output_type": "stream",
     "text": [
      "<class 'str'>\n"
     ]
    }
   ],
   "source": [
    "c = 'data'  \n",
    "print(type(c))"
   ]
  },
  {
   "cell_type": "code",
   "execution_count": 68,
   "id": "09d647fd-a497-4e80-ac52-6bcac29e187c",
   "metadata": {},
   "outputs": [
    {
     "name": "stdout",
     "output_type": "stream",
     "text": [
      "36.0\n"
     ]
    }
   ],
   "source": [
    "print(a * 3)"
   ]
  },
  {
   "cell_type": "code",
   "execution_count": 69,
   "id": "6d7eb59e-071e-41b9-b3c4-c4efaa3cf30b",
   "metadata": {},
   "outputs": [
    {
     "name": "stdout",
     "output_type": "stream",
     "text": [
      "72\n"
     ]
    }
   ],
   "source": [
    "print(b * 3)"
   ]
  },
  {
   "cell_type": "code",
   "execution_count": 71,
   "id": "d1609ac6-31dc-4d66-a3b7-0226fbc882f7",
   "metadata": {},
   "outputs": [
    {
     "name": "stdout",
     "output_type": "stream",
     "text": [
      "datadatadata\n"
     ]
    }
   ],
   "source": [
    "print(c * 3)"
   ]
  },
  {
   "cell_type": "markdown",
   "id": "01674cac-5dbb-45d4-9908-813752368aeb",
   "metadata": {},
   "source": [
    "## Concatenation between Different types"
   ]
  },
  {
   "cell_type": "raw",
   "id": "051b53e8-5b6f-4de5-aa5e-edb51464b58f",
   "metadata": {},
   "source": [
    "# Python string concatenation"
   ]
  },
  {
   "cell_type": "raw",
   "id": "040755f3-7950-419d-afb4-b3adcd9a2906",
   "metadata": {},
   "source": [
    "In Python, Strings are arrays of bytes representing Unicode characters. However, Python does not have a character\n",
    "data type, a single character is simply a string with a length of 1. Square brackets [] can be used to access \n",
    "elements of the string."
   ]
  },
  {
   "cell_type": "code",
   "execution_count": 72,
   "id": "144fd2d3-4142-4e63-8e27-86e8a3403948",
   "metadata": {},
   "outputs": [],
   "source": [
    "# Assign varaible var1 & var2\n",
    "var1 = \"Welcome\"\n",
    "var2 = \"statistics\""
   ]
  },
  {
   "cell_type": "code",
   "execution_count": 73,
   "id": "e5004750-7050-4e1e-b62b-dec27ab7a31a",
   "metadata": {},
   "outputs": [
    {
     "name": "stdout",
     "output_type": "stream",
     "text": [
      "Welcome statistics\n"
     ]
    }
   ],
   "source": [
    "print(f\"{var1} {var2}\")"
   ]
  },
  {
   "cell_type": "raw",
   "id": "19b90ccc-5316-4154-b0d0-d02ae68a30ca",
   "metadata": {},
   "source": [
    "# Method 1: String Concatenation using + Operator"
   ]
  },
  {
   "cell_type": "code",
   "execution_count": 74,
   "id": "5945e8b8-9aba-4637-9b15-699df5d9d24a",
   "metadata": {},
   "outputs": [
    {
     "name": "stdout",
     "output_type": "stream",
     "text": [
      "Hello World\n"
     ]
    }
   ],
   "source": [
    "# Defining strings\n",
    "var1 = \"Hello \"\n",
    "var2 = \"World\"\n",
    "\n",
    "# + Operator is used to combine strings\n",
    "var3 = var1 + var2\n",
    "print(var3)"
   ]
  },
  {
   "cell_type": "raw",
   "id": "52770c0a-13b1-4f9a-8328-25af1eadc8b3",
   "metadata": {},
   "source": [
    "Method 2: String Concatenation using join() Method"
   ]
  },
  {
   "cell_type": "code",
   "execution_count": 75,
   "id": "ac0d1168-d950-4630-bf8c-c472f48f8caf",
   "metadata": {},
   "outputs": [
    {
     "name": "stdout",
     "output_type": "stream",
     "text": [
      "HelloWorld\n",
      "Hello World\n"
     ]
    }
   ],
   "source": [
    "var1 = \"Hello\"\n",
    "var2 = \"World\"\n",
    "\n",
    "# join() method is used to combine the strings\n",
    "print(\"\".join([var1, var2]))\n",
    "\n",
    "# join() method is used here to combine\n",
    "# the string with a separator Space(\" \")\n",
    "var3 = \" \".join([var1, var2])\n",
    "\n",
    "print(var3)"
   ]
  },
  {
   "cell_type": "raw",
   "id": "490fac36-6912-4dec-a05f-5718e2a9e3a0",
   "metadata": {},
   "source": [
    "Method 3: String Concatenation using % Operator"
   ]
  },
  {
   "cell_type": "code",
   "execution_count": 76,
   "id": "b46ec4c0-90e6-4a5c-b302-324ae7153072",
   "metadata": {},
   "outputs": [
    {
     "name": "stdout",
     "output_type": "stream",
     "text": [
      "Hello World\n"
     ]
    }
   ],
   "source": [
    "var1 = \"Hello\"\n",
    "var2 = \"World\"\n",
    "\n",
    "# % Operator is used here to combine the string\n",
    "print(\"% s % s\" % (var1, var2))"
   ]
  },
  {
   "cell_type": "raw",
   "id": "cae57de2-7dc0-43d8-919d-8993ad6bc0e8",
   "metadata": {},
   "source": [
    "Method 4: String Concatenation using format() function "
   ]
  },
  {
   "cell_type": "code",
   "execution_count": 77,
   "id": "975569a1-d4b6-41f7-8da9-2938c9af29a5",
   "metadata": {},
   "outputs": [
    {
     "name": "stdout",
     "output_type": "stream",
     "text": [
      "Hello World\n",
      "Hello World\n"
     ]
    }
   ],
   "source": [
    "var1 = \"Hello\"\n",
    "var2 = \"World\"\n",
    "\n",
    "# format function is used here to\n",
    "# combine the string\n",
    "print(\"{} {}\".format(var1, var2))\n",
    "\n",
    "# store the result in another variable\n",
    "var3 = \"{} {}\".format(var1, var2)\n",
    "\n",
    "print(var3)"
   ]
  },
  {
   "cell_type": "raw",
   "id": "9c404098-a0b8-48d2-8e0e-123a31c975a5",
   "metadata": {},
   "source": [
    "Method 5: String Concatenation using (, comma)"
   ]
  },
  {
   "cell_type": "code",
   "execution_count": 78,
   "id": "a4ac7663-ff39-48e7-9161-9e88fa94b4f9",
   "metadata": {},
   "outputs": [
    {
     "name": "stdout",
     "output_type": "stream",
     "text": [
      "Hello World\n"
     ]
    }
   ],
   "source": [
    "var1 = \"Hello\"\n",
    "var2 = \"World\"\n",
    "\n",
    "# , to combine data types with a single whitespace.\n",
    "print(var1, var2)"
   ]
  },
  {
   "cell_type": "code",
   "execution_count": null,
   "id": "322efdb6-3129-43c7-9a23-953f2971ee64",
   "metadata": {},
   "outputs": [],
   "source": []
  }
 ],
 "metadata": {
  "kernelspec": {
   "display_name": "Python 3 (ipykernel)",
   "language": "python",
   "name": "python3"
  },
  "language_info": {
   "codemirror_mode": {
    "name": "ipython",
    "version": 3
   },
   "file_extension": ".py",
   "mimetype": "text/x-python",
   "name": "python",
   "nbconvert_exporter": "python",
   "pygments_lexer": "ipython3",
   "version": "3.10.8"
  }
 },
 "nbformat": 4,
 "nbformat_minor": 5
}
