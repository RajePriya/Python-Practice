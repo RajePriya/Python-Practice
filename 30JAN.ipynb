{
 "cells": [
  {
   "cell_type": "markdown",
   "id": "104e809b-834d-484e-840e-1e01d9571c9a",
   "metadata": {},
   "source": [
    "## 30JAN\n",
    "#### Practice"
   ]
  },
  {
   "cell_type": "raw",
   "id": "8d397d9a-d1f8-4de4-8caf-eff1658e692d",
   "metadata": {},
   "source": [
    "string format in Python"
   ]
  },
  {
   "cell_type": "raw",
   "id": "cdd714e6-4590-46c3-8a7a-c7107fd45749",
   "metadata": {},
   "source": [
    "The format() method formats the specified value(s) and insert them inside the string's placeholder.\n",
    "\n",
    "The placeholder is defined using curly brackets: {}. Read more about the placeholders in the Placeholder section below.\n",
    "\n",
    "The format() method returns the formatted string."
   ]
  },
  {
   "cell_type": "code",
   "execution_count": 5,
   "id": "6dda9f71-d08b-4971-b2b2-194f94ea74a3",
   "metadata": {},
   "outputs": [
    {
     "name": "stdout",
     "output_type": "stream",
     "text": [
      "my name krish and age is 32\n"
     ]
    }
   ],
   "source": [
    "## format()\n",
    "name=\"krish\"\n",
    "age=32\n",
    "print(\"my name {} and age is {}\".format(name,age))"
   ]
  },
  {
   "cell_type": "code",
   "execution_count": 6,
   "id": "38b307b9-d929-4272-8bca-1165e79278df",
   "metadata": {},
   "outputs": [
    {
     "name": "stdout",
     "output_type": "stream",
     "text": [
      "my name is 32 and age is krish\n"
     ]
    }
   ],
   "source": [
    " print(\"my name is {} and age is {}\".format(age,name))"
   ]
  },
  {
   "cell_type": "markdown",
   "id": "b410bbb1-75be-403e-aa94-5c18b5bca410",
   "metadata": {},
   "source": [
    "# Placeholder"
   ]
  },
  {
   "cell_type": "code",
   "execution_count": 2,
   "id": "5c5b0d4f-0fc7-4c71-8b7f-83458234c764",
   "metadata": {},
   "outputs": [],
   "source": [
    "txt1 = \"My name is {fname}, I'm {age}\".format(fname = \"John\", age = 36)"
   ]
  },
  {
   "cell_type": "code",
   "execution_count": 3,
   "id": "0cb6aec9-aa6a-4bf4-9bd3-df60a3bad17a",
   "metadata": {},
   "outputs": [],
   "source": [
    "txt2 = \"My name is {0}, I'm {1}\".format(\"John\",36)"
   ]
  },
  {
   "cell_type": "code",
   "execution_count": 4,
   "id": "39c8bea7-8566-4a97-b9a4-06deac6b0f6d",
   "metadata": {},
   "outputs": [],
   "source": [
    "txt3 = \"My name is {}, I'm {}\".format(\"John\",36)"
   ]
  },
  {
   "cell_type": "code",
   "execution_count": 7,
   "id": "bfb30f87-5a54-4b0d-aaab-b10cd975f516",
   "metadata": {},
   "outputs": [
    {
     "name": "stdout",
     "output_type": "stream",
     "text": [
      "My name is krish and age is 32\n"
     ]
    }
   ],
   "source": [
    "##placeholder\n",
    "print(\"My name is {firstname} and age is {firstage}\".format(firstage=age,firstname=name))"
   ]
  },
  {
   "cell_type": "code",
   "execution_count": 8,
   "id": "aeef761f-0182-4d7f-8afa-2146c7acdf18",
   "metadata": {},
   "outputs": [
    {
     "data": {
      "text/plain": [
       "'My age is 21 and i have completed: my degree of BE with the name of Raje Priya'"
      ]
     },
     "execution_count": 8,
     "metadata": {},
     "output_type": "execute_result"
    }
   ],
   "source": [
    "name=\"Raje Priya\"\n",
    "age=21\n",
    "degree=\"BE\"\n",
    "\"My age is 21 and i have completed: my degree of BE with the name of Raje Priya\""
   ]
  },
  {
   "cell_type": "code",
   "execution_count": 9,
   "id": "ba48f93c-a3b3-4276-a732-d5d47541a86c",
   "metadata": {},
   "outputs": [
    {
     "name": "stdout",
     "output_type": "stream",
     "text": [
      "my age is21 and i have completed: my degree of BE with the name of Raje Priya\n"
     ]
    }
   ],
   "source": [
    "print(f\"my age is{age} and i have completed: my degree of {degree} with the name of {name}\")"
   ]
  },
  {
   "cell_type": "raw",
   "id": "617eee1f-00fc-41d3-bfa9-d89e49e03342",
   "metadata": {},
   "source": [
    "control flow\n",
    "Decision making statements\n",
    "It is kind of making decision occurred situation of program execution and action can be taken according to specified conditions.\n",
    "Structure of decision making evalute several expressions that provide True or False as a result.\n",
    "It is upto you to decide which type of action want to take and execute the statements based upon True and False.\n",
    "These are several topics of decision making which going to discussed below:\n",
    "1. If\n",
    "2. if else\n",
    "3. if elif else\n",
    "4. Nested if\n",
    "5. Single Statement Suites"
   ]
  },
  {
   "cell_type": "markdown",
   "id": "ed8a3ea5-df37-49e7-b059-d82c0d44ff55",
   "metadata": {},
   "source": [
    "## IF"
   ]
  },
  {
   "cell_type": "code",
   "execution_count": 10,
   "id": "5a01ecb2-fbf2-4df2-8ec6-281df45a02fa",
   "metadata": {},
   "outputs": [
    {
     "name": "stdout",
     "output_type": "stream",
     "text": [
      "x is smaller than y.\n"
     ]
    }
   ],
   "source": [
    "# Basic IF statement\n",
    "x = 3\n",
    "y = 10\n",
    "\n",
    "if x < y:\n",
    "    print(\"x is smaller than y.\")"
   ]
  },
  {
   "cell_type": "code",
   "execution_count": 11,
   "id": "ca5e9562-52d4-476a-93de-99c255d2b9ac",
   "metadata": {},
   "outputs": [
    {
     "name": "stdout",
     "output_type": "stream",
     "text": [
      "Variable z is now 13.\n"
     ]
    }
   ],
   "source": [
    "# Ex-2 in complex\n",
    "x = 3\n",
    "y = 10\n",
    "z = None\n",
    "\n",
    "if x < y:\n",
    "    z = 13\n",
    "print(f\"Variable z is now {z}.\")"
   ]
  },
  {
   "cell_type": "code",
   "execution_count": 13,
   "id": "11437d53-965d-45e9-a4d7-4e2ce6dada60",
   "metadata": {},
   "outputs": [],
   "source": [
    "# What happens here?\n",
    "x = 3\n",
    "y = 10\n",
    "\n",
    "if x > y:\n",
    "    print(\"x is greater than y.\")"
   ]
  },
  {
   "cell_type": "markdown",
   "id": "aa1c8511-43ba-40cd-82e4-74b4d6ff9a4c",
   "metadata": {},
   "source": [
    "## If Else "
   ]
  },
  {
   "cell_type": "code",
   "execution_count": 14,
   "id": "8d2bbccd-0ea6-463f-aa7f-ad0a378584aa",
   "metadata": {},
   "outputs": [
    {
     "name": "stdout",
     "output_type": "stream",
     "text": [
      "x is smaller than y.\n"
     ]
    }
   ],
   "source": [
    "# else statement\n",
    "x = 3\n",
    "y = 10\n",
    "\n",
    "if x > y:\n",
    "    print(\"x is greater than y.\")\n",
    "else:\n",
    "    print(\"x is smaller than y.\")"
   ]
  },
  {
   "cell_type": "code",
   "execution_count": 15,
   "id": "9c01b3e6-fb8c-4970-a8a6-2118869fde11",
   "metadata": {},
   "outputs": [
    {
     "name": "stdout",
     "output_type": "stream",
     "text": [
      "x is smaller than y.\n"
     ]
    }
   ],
   "source": [
    "# What if the condition is met?\n",
    "x = 3\n",
    "y = 10\n",
    "\n",
    "if x < y:\n",
    "    print(\"x is smaller than y.\")\n",
    "else:\n",
    "    print(\"x is greater than y.\")"
   ]
  },
  {
   "cell_type": "code",
   "execution_count": 16,
   "id": "dec12d1b-e5c8-4e93-a5b1-a7069160392c",
   "metadata": {},
   "outputs": [
    {
     "name": "stdout",
     "output_type": "stream",
     "text": [
      "x is greater than y.\n"
     ]
    }
   ],
   "source": [
    "# x is equal to y\n",
    "x = 3\n",
    "y = 3\n",
    "\n",
    "if x < y:\n",
    "    print(\"x is smaller than y.\")\n",
    "else:\n",
    "    print(\"x is greater than y.\")"
   ]
  },
  {
   "cell_type": "raw",
   "id": "c09dcdb2-ceff-4c51-940b-670cdeefff1f",
   "metadata": {},
   "source": [
    "x is greater than y.\n",
    "The output is clearly wrong because 3 is equal to 3! We have another condition outside the greater or less than comparison \n",
    "symbols; thus, we have to use the elif statement."
   ]
  },
  {
   "cell_type": "markdown",
   "id": "16ab7b3d-9954-42af-9ec5-48ca30633b93",
   "metadata": {},
   "source": [
    "## Elif statement"
   ]
  },
  {
   "cell_type": "code",
   "execution_count": 17,
   "id": "4cca62d2-22f0-4dca-9cad-48ddc04f07f2",
   "metadata": {},
   "outputs": [
    {
     "name": "stdout",
     "output_type": "stream",
     "text": [
      "x is equal to y.\n"
     ]
    }
   ],
   "source": [
    "# x is equal to y with elif statement\n",
    "x = 3 \n",
    "y = 3\n",
    "\n",
    "if x < y:\n",
    "    print(\"x is smaller than y.\")\n",
    "elif x == y:\n",
    "    print(\"x is equal to y.\")\n",
    "else:\n",
    "    print(\"x is greater than y.\")"
   ]
  },
  {
   "cell_type": "code",
   "execution_count": null,
   "id": "13982bcf-7708-43e2-b678-a1afb4bdcf19",
   "metadata": {},
   "outputs": [],
   "source": [
    "In this example, we’re going to use strings instead of integers to demonstrate the flexibility of the if condition in Python."
   ]
  },
  {
   "cell_type": "code",
   "execution_count": 18,
   "id": "2f5f72a0-2548-49b6-aad3-d1ae7f31afd9",
   "metadata": {},
   "outputs": [
    {
     "name": "stdout",
     "output_type": "stream",
     "text": [
      "I'll go to the sea.\n"
     ]
    }
   ],
   "source": [
    "# elif condition\n",
    "tomorrow = \"warm\"\n",
    "\n",
    "if tomorrow == \"warm\":\n",
    "    print(\"I'll go to the sea.\")\n",
    "elif tomorrow == \"very hot\":\n",
    "    print(\"I'll go to the forest.\")\n",
    "else:\n",
    "    print(\"I'll stay home.\")"
   ]
  },
  {
   "cell_type": "raw",
   "id": "83f473f0-9712-4c1f-9552-e0a435e99ebf",
   "metadata": {},
   "source": [
    "Python first checks if the variable tomorrow is equal to “warm” and if it is, then it prints out I'll go to the sea.\n",
    "and stops the execution. What happens if the first condition isn’t met?"
   ]
  },
  {
   "cell_type": "code",
   "execution_count": 19,
   "id": "269f30c3-7d54-4363-b134-58cbcd9da1e6",
   "metadata": {},
   "outputs": [
    {
     "name": "stdout",
     "output_type": "stream",
     "text": [
      "I'll go to the forest.\n"
     ]
    }
   ],
   "source": [
    "# Tomorrow is very hot\n",
    "tomorrow = \"very hot\"\n",
    "\n",
    "if tomorrow == \"warm\":\n",
    "    print(\"I'll go to the sea.\")\n",
    "elif tomorrow == \"very hot\":\n",
    "    print(\"I'll go to the forest.\")\n",
    "else:\n",
    "    print(\"I'll stay home.\")"
   ]
  },
  {
   "cell_type": "code",
   "execution_count": null,
   "id": "6cc193b8-327c-4187-90e0-dbe467ec214e",
   "metadata": {},
   "outputs": [],
   "source": [
    "In this case, Python evaluates the first condition to False and goes to the second condition.\n",
    "This condition is True, so it prints out I'll go to the forest. and stops the execution.\n",
    "\n",
    "If neither of the two conditions is met, then it’ll print out I’ll stay home.\n",
    "\n",
    "Of course, you can use whatever number of elif statements you want. Let’s add more conditions and also change what is \n",
    "printed out under the else statement to Weather not recognized. (for example, if tomorrow is “f”, we don’t know what it\n",
    "means)."
   ]
  },
  {
   "cell_type": "code",
   "execution_count": 20,
   "id": "4ae69ba8-828b-4516-899c-1dc22cd1a2a9",
   "metadata": {},
   "outputs": [
    {
     "name": "stdout",
     "output_type": "stream",
     "text": [
      "I'll build a snowman.\n"
     ]
    }
   ],
   "source": [
    "# Several elif conditions\n",
    "tomorrow = \"snowy\"\n",
    "\n",
    "if tomorrow == \"warm\":\n",
    "    print(\"I'll go to the sea.\")\n",
    "elif tomorrow == \"very hot\":\n",
    "    print(\"I'll go to the forest.\")\n",
    "elif tomorrow == \"snowy\":\n",
    "    print(\"I'll build a snowman.\")\n",
    "elif tomorrow == \"rainy\":\n",
    "    print(\"I'll stay home.\")\n",
    "else:\n",
    "    print(\"Weather not recognized.\")"
   ]
  },
  {
   "cell_type": "raw",
   "id": "68906b32-f3d0-4642-96b8-f784ea945c99",
   "metadata": {},
   "source": [
    "In Python, we can use logical operators (i.e., and, or) to use multiple conditions in the same if statement."
   ]
  },
  {
   "cell_type": "code",
   "execution_count": 21,
   "id": "a6b0399b-998e-41c3-945a-c5fd6376e5ad",
   "metadata": {},
   "outputs": [
    {
     "name": "stdout",
     "output_type": "stream",
     "text": [
      "It's a hot desert.\n"
     ]
    }
   ],
   "source": [
    "# Biome prediction with and logical operator\n",
    "humidity = \"low\"\n",
    "temperature = \"high\"\n",
    "\n",
    "if humidity == \"low\" and temperature == \"high\":\n",
    "    print(\"It's a hot desert.\")\n",
    "elif humidity == \"low\" and temperature == \"low\":\n",
    "    print(\"It's an arctic desert.\")\n",
    "elif humidity == \"high\" and temperature == \"high\":\n",
    "    print(\"It's a tropical forest.\")\n",
    "else:\n",
    "    print(\"I don't know!\")"
   ]
  },
  {
   "cell_type": "markdown",
   "id": "0694b571-0f16-4e6f-8a7f-77ffd754fea2",
   "metadata": {},
   "source": [
    "## Nested If statements"
   ]
  },
  {
   "cell_type": "code",
   "execution_count": null,
   "id": "8edc464c-07d2-4481-a06f-5c599dac2c9b",
   "metadata": {},
   "outputs": [],
   "source": [
    "Python is a very flexible programming language, and it allows you to use if statements inside other if statements,\n",
    "so called nested if statements. Let’s look at an example."
   ]
  },
  {
   "cell_type": "code",
   "execution_count": 22,
   "id": "badb4bdf-89c6-4935-bfc3-1539b843d95e",
   "metadata": {},
   "outputs": [
    {
     "name": "stdout",
     "output_type": "stream",
     "text": [
      "Well done!\n"
     ]
    }
   ],
   "source": [
    "# Nested if statements\n",
    "mark =  85\n",
    "\n",
    "if mark >= 60 and mark <= 100:\n",
    "    if mark >= 90:\n",
    "        print(\"You are the best!\")\n",
    "    elif mark >= 80:\n",
    "        print(\"Well done!\")\n",
    "    elif mark >= 70:\n",
    "        print(\"You can do better.\")\n",
    "    else:\n",
    "        print(\"Pass.\")\n",
    "elif mark > 100:\n",
    "    print(\"This mark is too high.\")\n",
    "elif mark < 0:\n",
    "    print(\"This mark is too low.\")\n",
    "else:\n",
    "    print(\"Failed.\")"
   ]
  },
  {
   "cell_type": "code",
   "execution_count": 24,
   "id": "6104a2ab-3acf-4594-8bcb-6fc598df2fb7",
   "metadata": {},
   "outputs": [
    {
     "name": "stdin",
     "output_type": "stream",
     "text": [
      "Enter the number 1000\n"
     ]
    },
    {
     "name": "stdout",
     "output_type": "stream",
     "text": [
      "Go Home\n"
     ]
    }
   ],
   "source": [
    "### single statement\n",
    "val=int(input('Enter the number'))\n",
    "if(val<=999):print(\"Value is less than equal to 999\")\n",
    "else:\n",
    "    print(\"Go Home\")"
   ]
  },
  {
   "cell_type": "markdown",
   "id": "f496b27f-1954-4c7a-8350-225e85c504d1",
   "metadata": {},
   "source": [
    "## Loops statements\n",
    " 1. while loop\n",
    " 2. for loop\n",
    " 3. nested loops\n",
    " 4. loop control(break,continue,pass)"
   ]
  },
  {
   "cell_type": "code",
   "execution_count": 25,
   "id": "ac63ce11-15ca-432c-8bdb-d69bc7e8e110",
   "metadata": {},
   "outputs": [
    {
     "name": "stdout",
     "output_type": "stream",
     "text": [
      "26\n",
      "27\n",
      "28\n",
      "29\n",
      "30\n",
      "31\n",
      "32\n",
      "33\n",
      "34\n",
      "35\n",
      "36\n",
      "37\n",
      "38\n",
      "39\n",
      "40\n",
      "41\n",
      "42\n",
      "43\n",
      "44\n",
      "45\n",
      "46\n",
      "47\n",
      "48\n",
      "49\n",
      "50\n",
      "51\n",
      "52\n",
      "53\n",
      "54\n",
      "55\n",
      "56\n",
      "57\n",
      "58\n",
      "59\n",
      "60\n",
      "61\n",
      "Its time for retirement\n"
     ]
    }
   ],
   "source": [
    "# while loop \n",
    "joining_age=25\n",
    "while joining_age<=60:\n",
    "    joining_age=joining_age+1\n",
    "    print(joining_age)\n",
    "else:\n",
    "    print(\"Its time for retirement\")"
   ]
  },
  {
   "cell_type": "code",
   "execution_count": 26,
   "id": "c71b9bd0-174d-405c-ac0e-0086bac244fb",
   "metadata": {},
   "outputs": [
    {
     "name": "stdout",
     "output_type": "stream",
     "text": [
      "1\n",
      "2\n",
      "3\n",
      "4\n",
      "5\n"
     ]
    }
   ],
   "source": [
    "# program to display numbers from 1 to 5\n",
    "\n",
    "# initialize the variable\n",
    "i = 1\n",
    "n = 5\n",
    "\n",
    "# while loop from i = 1 to 5\n",
    "while i <= n:\n",
    "    print(i)\n",
    "    i = i + 1"
   ]
  },
  {
   "cell_type": "markdown",
   "id": "7c9c98de-e70a-426a-8501-46a65230add9",
   "metadata": {},
   "source": [
    "### Ex-2"
   ]
  },
  {
   "cell_type": "code",
   "execution_count": 3,
   "id": "faa3df2b-aa2b-4190-96bb-02ede527ed80",
   "metadata": {},
   "outputs": [
    {
     "name": "stdin",
     "output_type": "stream",
     "text": [
      "Enter a number:  15\n",
      "Enter a number:  0\n"
     ]
    },
    {
     "name": "stdout",
     "output_type": "stream",
     "text": [
      "total = 15\n"
     ]
    }
   ],
   "source": [
    "# program to calculate the sum of numbers\n",
    "# until the user enters zero\n",
    "\n",
    "total = 0\n",
    "\n",
    "number = int(input('Enter a number: '))\n",
    "\n",
    "# add numbers until number is zero\n",
    "while number != 0:\n",
    "    total += number    # total = total + number\n",
    "    \n",
    "    # take integer input again\n",
    "    number = int(input('Enter a number: '))\n",
    "    \n",
    "\n",
    "print('total =', total)"
   ]
  },
  {
   "cell_type": "code",
   "execution_count": 2,
   "id": "d114228e-1f8f-417b-aefb-1f400e56231d",
   "metadata": {},
   "outputs": [
    {
     "name": "stdout",
     "output_type": "stream",
     "text": [
      "Inside loop\n",
      "Inside loop\n",
      "Inside loop\n",
      "Inside else\n"
     ]
    }
   ],
   "source": [
    "# Python While loop with else\n",
    "counter = 0\n",
    "\n",
    "while counter < 3:\n",
    "    print('Inside loop')\n",
    "    counter = counter + 1\n",
    "else:\n",
    "    print('Inside else')\n"
   ]
  },
  {
   "cell_type": "code",
   "execution_count": 5,
   "id": "479e191f-fbe1-47fb-ace3-91bb2c5a4b66",
   "metadata": {},
   "outputs": [
    {
     "name": "stdout",
     "output_type": "stream",
     "text": [
      "Inside loop\n"
     ]
    }
   ],
   "source": [
    "counter = 0\n",
    "\n",
    "while counter < 3:\n",
    "    # loop ends because of break\n",
    "    # the else part is not executed \n",
    "    if counter == 1:\n",
    "        break\n",
    "\n",
    "    print('Inside loop')\n",
    "    counter = counter + 1\n",
    "else:\n",
    "    print('Inside else')"
   ]
  },
  {
   "cell_type": "code",
   "execution_count": 6,
   "id": "8561497a-0302-45ce-b0db-b8746b0b6baa",
   "metadata": {},
   "outputs": [
    {
     "name": "stdout",
     "output_type": "stream",
     "text": [
      "0\n",
      "1\n",
      "2\n",
      "3\n"
     ]
    }
   ],
   "source": [
    "# this loop is iterated 4 times (0 to 3)\n",
    "for i in range(4):\n",
    "    print(i)"
   ]
  },
  {
   "cell_type": "code",
   "execution_count": null,
   "id": "ef9e0e7b-f432-4eef-9bc9-9deeab512ef7",
   "metadata": {},
   "outputs": [],
   "source": [
    "# For loops\n",
    "A for loop is used for iterating over a sequence (that is either a list, a tuple, a dictionary, a set, or a string).\n",
    "\n",
    "This is less like the for keyword in other programming languages, and works more like an iterator method as found in other \n",
    "object-orientated programming languages.\n",
    "\n",
    "With the for loop we can execute a set of statements, once for each item in a list, tuple, set etc."
   ]
  },
  {
   "cell_type": "code",
   "execution_count": 7,
   "id": "4e233628-a4fe-40e0-8d2e-6e3e12a207e5",
   "metadata": {},
   "outputs": [
    {
     "name": "stdout",
     "output_type": "stream",
     "text": [
      "apple\n",
      "banana\n",
      "cherry\n"
     ]
    }
   ],
   "source": [
    "fruits = [\"apple\", \"banana\", \"cherry\"]\n",
    "for x in fruits:\n",
    "    print(x)"
   ]
  },
  {
   "cell_type": "code",
   "execution_count": 8,
   "id": "a61a0691-3fb0-42ab-a907-31136b447ae8",
   "metadata": {},
   "outputs": [
    {
     "name": "stdout",
     "output_type": "stream",
     "text": [
      "b\n",
      "a\n",
      "n\n",
      "a\n",
      "n\n",
      "a\n"
     ]
    }
   ],
   "source": [
    "# Looping Through a String\n",
    "for x in \"banana\":\n",
    "    print(x)"
   ]
  },
  {
   "cell_type": "code",
   "execution_count": 10,
   "id": "7272d6e8-050a-4e0a-8748-17b3ec345e01",
   "metadata": {},
   "outputs": [
    {
     "name": "stdout",
     "output_type": "stream",
     "text": [
      "apple\n",
      "banana\n"
     ]
    }
   ],
   "source": [
    "# The break Statement\n",
    "fruits = [\"apple\", \"banana\", \"cherry\"]\n",
    "for x in fruits:\n",
    "  print(x)\n",
    "  if x == \"banana\":\n",
    "    break"
   ]
  },
  {
   "cell_type": "code",
   "execution_count": 11,
   "id": "b770609c-57ae-4876-a9e0-1cd9af5db826",
   "metadata": {},
   "outputs": [
    {
     "name": "stdout",
     "output_type": "stream",
     "text": [
      "apple\n"
     ]
    }
   ],
   "source": [
    "fruits = [\"apple\", \"banana\", \"cherry\"]\n",
    "for x in fruits:\n",
    "  print(x)\n",
    "  if x == \"apple\":\n",
    "    break"
   ]
  },
  {
   "cell_type": "code",
   "execution_count": 12,
   "id": "3643a8bc-d095-4d7c-b94d-69f515c97dbf",
   "metadata": {},
   "outputs": [
    {
     "name": "stdout",
     "output_type": "stream",
     "text": [
      "apple\n",
      "banana\n",
      "cherry\n"
     ]
    }
   ],
   "source": [
    "fruits = [\"apple\", \"banana\", \"cherry\"]\n",
    "for x in fruits:\n",
    "  print(x)\n",
    "  if x == \"cherry\":\n",
    "    break"
   ]
  },
  {
   "cell_type": "code",
   "execution_count": 13,
   "id": "500e534c-5376-43d7-bcf6-446c329217c2",
   "metadata": {},
   "outputs": [
    {
     "name": "stdout",
     "output_type": "stream",
     "text": [
      "apple\n"
     ]
    }
   ],
   "source": [
    "fruits = [\"apple\", \"banana\", \"cherry\"]\n",
    "for x in fruits:\n",
    "  if x == \"banana\":\n",
    "    break\n",
    "  print(x)"
   ]
  },
  {
   "cell_type": "code",
   "execution_count": 14,
   "id": "0941b581-3096-4aa5-99ef-c848a2aeead2",
   "metadata": {},
   "outputs": [
    {
     "name": "stdout",
     "output_type": "stream",
     "text": [
      "apple\n",
      "banana\n"
     ]
    }
   ],
   "source": [
    "fruits = [\"apple\", \"banana\", \"cherry\"]\n",
    "for x in fruits:\n",
    "  if x == \"cherry\":\n",
    "    break\n",
    "  print(x)"
   ]
  },
  {
   "cell_type": "code",
   "execution_count": 15,
   "id": "d2b9673a-e3d2-4206-a1d6-d712bb629a23",
   "metadata": {},
   "outputs": [
    {
     "name": "stdout",
     "output_type": "stream",
     "text": [
      "apple\n",
      "cherry\n"
     ]
    }
   ],
   "source": [
    "# The continue Statement\n",
    "fruits = [\"apple\", \"banana\", \"cherry\"]\n",
    "for x in fruits:\n",
    "  if x == \"banana\":\n",
    "    continue\n",
    "  print(x)"
   ]
  },
  {
   "cell_type": "code",
   "execution_count": 16,
   "id": "45dd2166-49f1-487d-92f5-a02db1d91be2",
   "metadata": {},
   "outputs": [
    {
     "name": "stdout",
     "output_type": "stream",
     "text": [
      "apple\n",
      "banana\n"
     ]
    }
   ],
   "source": [
    "fruits = [\"apple\", \"banana\", \"cherry\"]\n",
    "for x in fruits:\n",
    "  if x == \"cherry\":\n",
    "    continue\n",
    "  print(x)"
   ]
  },
  {
   "cell_type": "code",
   "execution_count": 17,
   "id": "d2536622-ef54-40a4-8d41-00fd9e88e098",
   "metadata": {},
   "outputs": [
    {
     "name": "stdout",
     "output_type": "stream",
     "text": [
      "banana\n",
      "cherry\n"
     ]
    }
   ],
   "source": [
    "fruits = [\"apple\", \"banana\", \"cherry\"]\n",
    "for x in fruits:\n",
    "  if x == \"apple\":\n",
    "    continue\n",
    "  print(x)"
   ]
  },
  {
   "cell_type": "code",
   "execution_count": null,
   "id": "dd570717-047e-4b7b-8bb7-86466f77eb18",
   "metadata": {},
   "outputs": [],
   "source": [
    "# Range function\n",
    "The range() Function\n",
    "To loop through a set of code a specified number of times, we can use the range() function,\n",
    "The range() function returns a sequence of numbers, starting from 0 by default, and increments by 1 (by default), and ends \n",
    "at a specified number."
   ]
  },
  {
   "cell_type": "code",
   "execution_count": 18,
   "id": "ced6b6fb-4ae7-4584-998d-9d75cd11ce74",
   "metadata": {},
   "outputs": [
    {
     "name": "stdout",
     "output_type": "stream",
     "text": [
      "0\n",
      "1\n",
      "2\n",
      "3\n",
      "4\n",
      "5\n"
     ]
    }
   ],
   "source": [
    "for x in range(6):\n",
    "  print(x)"
   ]
  },
  {
   "cell_type": "code",
   "execution_count": 19,
   "id": "f0f70640-61fe-46af-ae03-3d482bace7e0",
   "metadata": {},
   "outputs": [
    {
     "name": "stdout",
     "output_type": "stream",
     "text": [
      "2\n",
      "3\n",
      "4\n",
      "5\n"
     ]
    }
   ],
   "source": [
    "for x in range(2, 6):\n",
    "  print(x)"
   ]
  },
  {
   "cell_type": "code",
   "execution_count": 20,
   "id": "dccd666a-7e3c-45c1-9657-1e30dfa1ccd1",
   "metadata": {},
   "outputs": [
    {
     "name": "stdout",
     "output_type": "stream",
     "text": [
      "2\n",
      "5\n",
      "8\n",
      "11\n",
      "14\n",
      "17\n",
      "20\n",
      "23\n",
      "26\n",
      "29\n"
     ]
    }
   ],
   "source": [
    "for x in range(2, 30, 3):\n",
    "  print(x)\n"
   ]
  },
  {
   "cell_type": "code",
   "execution_count": 21,
   "id": "65b4d6e4-eb89-4bba-97cd-5d8c79f30f5d",
   "metadata": {},
   "outputs": [
    {
     "name": "stdout",
     "output_type": "stream",
     "text": [
      "0\n",
      "1\n",
      "2\n",
      "3\n",
      "4\n",
      "5\n",
      "Finally finished!\n"
     ]
    }
   ],
   "source": [
    "# Else in For Loop\n",
    "for x in range(6):\n",
    "  print(x)\n",
    "else:\n",
    "  print(\"Finally finished!\")"
   ]
  },
  {
   "cell_type": "raw",
   "id": "9c25d426-79a0-4a89-a21d-ef6ee8fbe42c",
   "metadata": {},
   "source": [
    "Note: The else block will NOT be executed if the loop is stopped by a break statement."
   ]
  },
  {
   "cell_type": "code",
   "execution_count": 22,
   "id": "580e8e5d-448e-4a7b-a207-69320ec350de",
   "metadata": {},
   "outputs": [
    {
     "name": "stdout",
     "output_type": "stream",
     "text": [
      "0\n",
      "1\n",
      "2\n"
     ]
    }
   ],
   "source": [
    "for x in range(6):\n",
    "  if x == 3: break\n",
    "  print(x)\n",
    "else:\n",
    "  print(\"Finally finished!\")"
   ]
  },
  {
   "cell_type": "markdown",
   "id": "7eec91d3-36d3-4d11-aa2f-037fa6b21d4b",
   "metadata": {},
   "source": [
    "## Nested Loops"
   ]
  },
  {
   "cell_type": "raw",
   "id": "72d5f500-6411-40fb-955b-fd7fc1a8b648",
   "metadata": {},
   "source": [
    "A nested loop is a loop inside a loop.\n",
    "\n",
    "The \"inner loop\" will be executed one time for each iteration of the \"outer loop\":"
   ]
  },
  {
   "cell_type": "code",
   "execution_count": 23,
   "id": "cf2b4785-45a4-441e-94bb-ff2d3bffeaf0",
   "metadata": {},
   "outputs": [
    {
     "name": "stdout",
     "output_type": "stream",
     "text": [
      "red apple\n",
      "red banana\n",
      "red cherry\n",
      "big apple\n",
      "big banana\n",
      "big cherry\n",
      "tasty apple\n",
      "tasty banana\n",
      "tasty cherry\n"
     ]
    }
   ],
   "source": [
    "adj = [\"red\", \"big\", \"tasty\"]\n",
    "fruits = [\"apple\", \"banana\", \"cherry\"]\n",
    "\n",
    "for x in adj:\n",
    "  for y in fruits:\n",
    "    print(x, y)"
   ]
  },
  {
   "cell_type": "code",
   "execution_count": 24,
   "id": "37e2f0d8-9fe3-49e1-a2bd-92cc228902af",
   "metadata": {},
   "outputs": [
    {
     "name": "stdout",
     "output_type": "stream",
     "text": [
      "apple apple\n",
      "banana banana\n",
      "cherry cherry\n",
      "apple apple\n",
      "banana banana\n",
      "cherry cherry\n",
      "apple apple\n",
      "banana banana\n",
      "cherry cherry\n"
     ]
    }
   ],
   "source": [
    "adj = [\"red\", \"big\", \"tasty\"]\n",
    "fruits = [\"apple\", \"banana\", \"cherry\"]\n",
    "\n",
    "for x in adj:\n",
    "  for y in fruits:\n",
    "    print(y, y)"
   ]
  },
  {
   "cell_type": "code",
   "execution_count": 25,
   "id": "b613f405-3d81-4608-b632-a7cfb533bd12",
   "metadata": {},
   "outputs": [
    {
     "name": "stdout",
     "output_type": "stream",
     "text": [
      "apple red\n",
      "banana red\n",
      "cherry red\n",
      "apple big\n",
      "banana big\n",
      "cherry big\n",
      "apple tasty\n",
      "banana tasty\n",
      "cherry tasty\n"
     ]
    }
   ],
   "source": [
    "adj = [\"red\", \"big\", \"tasty\"]\n",
    "fruits = [\"apple\", \"banana\", \"cherry\"]\n",
    "\n",
    "for x in adj:\n",
    "  for y in fruits:\n",
    "    print(y, x)"
   ]
  },
  {
   "cell_type": "code",
   "execution_count": 30,
   "id": "47dd060a-b913-4b9c-af53-8d4b824934b3",
   "metadata": {},
   "outputs": [
    {
     "ename": "IndentationError",
     "evalue": "expected an indented block after 'for' statement on line 2 (2038130205.py, line 3)",
     "output_type": "error",
     "traceback": [
      "\u001b[0;36m  Cell \u001b[0;32mIn[30], line 3\u001b[0;36m\u001b[0m\n\u001b[0;31m    pass\u001b[0m\n\u001b[0m    ^\u001b[0m\n\u001b[0;31mIndentationError\u001b[0m\u001b[0;31m:\u001b[0m expected an indented block after 'for' statement on line 2\n"
     ]
    }
   ],
   "source": [
    "# The pass Statement\n",
    "for x in [0, 1, 2]:\n",
    "pass"
   ]
  },
  {
   "cell_type": "raw",
   "id": "62da68e1-f351-4853-942c-630e7e8148fa",
   "metadata": {},
   "source": [
    "for loops cannot be empty, but if you for some reason have a for loop with no content, put in the pass statement to avoid \n",
    "getting an error."
   ]
  },
  {
   "cell_type": "code",
   "execution_count": 31,
   "id": "39646a73-c10f-4b7c-9895-cb268765fa42",
   "metadata": {},
   "outputs": [
    {
     "name": "stdout",
     "output_type": "stream",
     "text": [
      "****************************"
     ]
    }
   ],
   "source": [
    "n=7\n",
    "\n",
    "for i in range(0,n):\n",
    "    for j in range(0,i+1):\n",
    "        print('*',end=\"\")"
   ]
  },
  {
   "cell_type": "code",
   "execution_count": 32,
   "id": "b2de8e41-39ce-4807-960d-76e17e4ee29d",
   "metadata": {},
   "outputs": [
    {
     "name": "stdout",
     "output_type": "stream",
     "text": [
      "*\n",
      "**\n",
      "***\n",
      "****\n",
      "*****\n",
      "******\n",
      "*******\n"
     ]
    }
   ],
   "source": [
    "n=7\n",
    "\n",
    "for i in range(0,n):\n",
    "    for j in range(0,i+1):\n",
    "        print('*',end=\"\")\n",
    "    print(\"\\r\")"
   ]
  },
  {
   "cell_type": "code",
   "execution_count": 33,
   "id": "34815fe2-9ff5-47e0-b579-820db2237cef",
   "metadata": {},
   "outputs": [
    {
     "name": "stdout",
     "output_type": "stream",
     "text": [
      "*\n",
      "\n",
      "**\n",
      "\n",
      "***\n",
      "\n",
      "****\n",
      "\n",
      "*****\n",
      "\n",
      "******\n",
      "\n",
      "*******\n",
      "\n"
     ]
    }
   ],
   "source": [
    "n=7\n",
    "\n",
    "for i in range(0,n):\n",
    "    for j in range(0,i+1):\n",
    "        print('*',end=\"\")\n",
    "    print(\"\\n\")"
   ]
  },
  {
   "cell_type": "code",
   "execution_count": 34,
   "id": "ed8a590f-9688-4cbe-a43f-2eef341217a4",
   "metadata": {},
   "outputs": [],
   "source": [
    "## loop controls\n",
    "## Break and continue\n",
    "fruits_list = [\"mango\", \"cherry\", \"Apple\", \"papaya\", \"Banana\"]"
   ]
  },
  {
   "cell_type": "code",
   "execution_count": 35,
   "id": "55e33f51-e5d2-4fe0-a649-f66d58482519",
   "metadata": {},
   "outputs": [
    {
     "name": "stdout",
     "output_type": "stream",
     "text": [
      "mango\n",
      "cherry\n",
      "Apple\n",
      "papaya\n",
      "Banana\n"
     ]
    }
   ],
   "source": [
    "for i in fruits_list:\n",
    "    print(i)"
   ]
  },
  {
   "cell_type": "code",
   "execution_count": 36,
   "id": "5c617c1a-39f7-4849-9d2d-e94c237c25ca",
   "metadata": {},
   "outputs": [
    {
     "name": "stdout",
     "output_type": "stream",
     "text": [
      "mango\n",
      "cherry\n",
      "The fruit is Apple\n"
     ]
    }
   ],
   "source": [
    "##break\n",
    "for i in fruits_list:\n",
    "    if i==\"Apple\":\n",
    "        print(\"The fruit is Apple\")\n",
    "        break \n",
    "    print(i)"
   ]
  },
  {
   "cell_type": "code",
   "execution_count": 37,
   "id": "a361459b-959d-4da2-8d0c-b97bd2e48a72",
   "metadata": {},
   "outputs": [
    {
     "name": "stdout",
     "output_type": "stream",
     "text": [
      "mango\n",
      "cherry\n",
      "The fruit is Apple\n",
      "Apple\n",
      "papaya\n",
      "Banana\n"
     ]
    }
   ],
   "source": [
    "##pass\n",
    "for i in fruits_list:\n",
    "    if i==\"Apple\":\n",
    "        print(\"The fruit is Apple\")\n",
    "        pass\n",
    "    print(i)"
   ]
  },
  {
   "cell_type": "code",
   "execution_count": 38,
   "id": "8e60ca60-e31d-4c32-9ab4-00d2c37e81e6",
   "metadata": {},
   "outputs": [
    {
     "name": "stdout",
     "output_type": "stream",
     "text": [
      "mango\n",
      "cherry\n",
      "The fruit is Apple\n",
      "papaya\n",
      "Banana\n"
     ]
    }
   ],
   "source": [
    "##continue\n",
    "for i in fruits_list:\n",
    "    if i==\"Apple\":\n",
    "        print(\"The fruit is Apple\")\n",
    "        continue\n",
    "    print(i)"
   ]
  },
  {
   "cell_type": "markdown",
   "id": "536f5b0b-72da-4605-a7d3-13d94dbf3bbc",
   "metadata": {},
   "source": [
    "### OPERATORS\n",
    "    Arithemetic operators\n",
    "    Assignment operators\n",
    "    Comparison operators\n",
    "    Logical operators\n",
    "    Identify operators\n",
    "    Membership operators\n",
    "    Bitwise operators"
   ]
  },
  {
   "cell_type": "markdown",
   "id": "ecf5f957-4bf1-4add-a186-9ef70b22cd0a",
   "metadata": {},
   "source": [
    "### Logical operators"
   ]
  },
  {
   "cell_type": "code",
   "execution_count": 39,
   "id": "569d32ae-8830-47f2-adb0-12c91be5c357",
   "metadata": {},
   "outputs": [
    {
     "name": "stdout",
     "output_type": "stream",
     "text": [
      "The numbers are greater than 0\n",
      "Atleast one number is not greater than 0\n"
     ]
    }
   ],
   "source": [
    "# Logical operators\n",
    "a = 10\n",
    "b = 10\n",
    "c = -10\n",
    " \n",
    "if a > 0 and b > 0:\n",
    "    print(\"The numbers are greater than 0\")\n",
    " \n",
    "if a > 0 and b > 0 and c > 0:\n",
    "    print(\"The numbers are greater than 0\")\n",
    "else:\n",
    "    print(\"Atleast one number is not greater than 0\")"
   ]
  },
  {
   "cell_type": "code",
   "execution_count": 40,
   "id": "a5542d1d-1d16-4419-895a-5789336807b6",
   "metadata": {},
   "outputs": [
    {
     "name": "stdout",
     "output_type": "stream",
     "text": [
      "Atleast one number has boolean value as False\n"
     ]
    }
   ],
   "source": [
    "# Ex-2\n",
    "# Python program to demonstrate\n",
    "# logical and operator\n",
    " \n",
    "a = 10\n",
    "b = 12\n",
    "c = 0\n",
    " \n",
    "if a and b and c:\n",
    "    print(\"All the numbers have boolean value as True\")\n",
    "else:\n",
    "    print(\"Atleast one number has boolean value as False\")"
   ]
  },
  {
   "cell_type": "raw",
   "id": "d318743e-5620-4c71-9018-333260d4bc02",
   "metadata": {},
   "source": [
    "Note: If the first expression evaluated to be false while using and operator, then the further expressions are not evaluated.\n",
    "\n",
    "Logical OR operator\n",
    "Logical or operator returns True if either of the operands is True."
   ]
  },
  {
   "cell_type": "code",
   "execution_count": 41,
   "id": "e2f53747-2b88-41b4-895e-b2feeaf8082d",
   "metadata": {},
   "outputs": [
    {
     "name": "stdout",
     "output_type": "stream",
     "text": [
      "Either of the number is greater than 0\n",
      "No number is greater than 0\n"
     ]
    }
   ],
   "source": [
    "# Python program to demonstrate\n",
    "# logical or operator\n",
    " \n",
    "a = 10\n",
    "b = -10\n",
    "c = 0\n",
    " \n",
    "if a > 0 or b > 0:\n",
    "    print(\"Either of the number is greater than 0\")\n",
    "else:\n",
    "    print(\"No number is greater than 0\")\n",
    " \n",
    "if b > 0 or c > 0:\n",
    "    print(\"Either of the number is greater than 0\")\n",
    "else:\n",
    "    print(\"No number is greater than 0\")"
   ]
  },
  {
   "cell_type": "code",
   "execution_count": 42,
   "id": "8f2657af-c024-49b0-b1b5-3a47637507cb",
   "metadata": {},
   "outputs": [
    {
     "name": "stdout",
     "output_type": "stream",
     "text": [
      "Atleast one number has boolean value as True\n"
     ]
    }
   ],
   "source": [
    "# Ex-2\n",
    "# Python program to demonstrate\n",
    "# logical and operator\n",
    " \n",
    "a = 10\n",
    "b = 12\n",
    "c = 0\n",
    " \n",
    "if a or b or c:\n",
    "    print(\"Atleast one number has boolean value as True\")\n",
    "else:\n",
    "    print(\"All the numbers have boolean value as False\")"
   ]
  },
  {
   "cell_type": "raw",
   "id": "35d523bc-60fe-40c5-8584-e5dd0b095cf6",
   "metadata": {},
   "source": [
    "Note: If the first expression evaluated to be True while using or operator, then the further expressions are not evaluated.\n",
    "\n",
    "Logical not operator\n",
    "Logical not operator work with the single boolean value. If the boolean value is True it returns False and vice-versa."
   ]
  },
  {
   "cell_type": "code",
   "execution_count": 43,
   "id": "0c3d7927-2345-452e-9513-c8d4b607d4cc",
   "metadata": {},
   "outputs": [
    {
     "name": "stdout",
     "output_type": "stream",
     "text": [
      "10 is divisible by either 3 or 5\n"
     ]
    }
   ],
   "source": [
    "# Python program to demonstrate\n",
    "# logical not operator\n",
    " \n",
    "a = 10\n",
    " \n",
    "if not a:\n",
    "    print(\"Boolean value of a is True\")\n",
    " \n",
    "if not (a%3 == 0 or a%5 == 0):\n",
    "    print(\"10 is not divisible by either 3 or 5\")\n",
    "else:\n",
    "    print(\"10 is divisible by either 3 or 5\")"
   ]
  },
  {
   "cell_type": "raw",
   "id": "32c8047b-edab-4e94-8e10-006ef8b22779",
   "metadata": {},
   "source": [
    "Order of evaluation of logical operators"
   ]
  },
  {
   "cell_type": "code",
   "execution_count": 44,
   "id": "090ff3b9-5de4-40c7-8666-ac04407009ae",
   "metadata": {},
   "outputs": [
    {
     "name": "stdout",
     "output_type": "stream",
     "text": [
      "Method called for value: -1\n",
      "Method called for value: 5\n",
      "Atleast one of the number is positive\n"
     ]
    }
   ],
   "source": [
    "# Python program to demonstrate\n",
    "# order of evaluation of logical\n",
    "# operators\n",
    "\n",
    "def order(x):\n",
    "\tprint(\"Method called for value:\", x)\n",
    "\treturn True if x > 0 else False\n",
    "\t\n",
    "a = order\n",
    "b = order\n",
    "c = order\n",
    "\n",
    "if a(-1) or b(5) or c(10):\n",
    "\tprint(\"Atleast one of the number is positive\")"
   ]
  },
  {
   "cell_type": "markdown",
   "id": "0e43e023-09c8-4ecc-9e9a-eb6cf0726bf2",
   "metadata": {},
   "source": [
    "## Arithematic operators"
   ]
  },
  {
   "cell_type": "raw",
   "id": "45ddd92c-aaae-4e19-9e21-14c48db11414",
   "metadata": {},
   "source": [
    "Arithmetic operators are used to perform mathematical operations like addition, subtraction, multiplication and division.\n",
    "\n",
    "There are 7 arithmetic operators in Python :\n",
    "\n",
    "Addition\n",
    "Subtraction\n",
    "Multiplication\n",
    "Division\n",
    "Modulus\n",
    "Exponentiation\n",
    "Floor division"
   ]
  },
  {
   "cell_type": "code",
   "execution_count": null,
   "id": "78faa459-d2e6-4318-bf15-9f50c815b38a",
   "metadata": {},
   "outputs": [],
   "source": [
    "1. Addition Operator : In Python, + is the addition operator. It is used to add 2 values.\n",
    "Example :"
   ]
  },
  {
   "cell_type": "code",
   "execution_count": 45,
   "id": "fa0fb7d6-2559-4499-987b-10a4ca923448",
   "metadata": {},
   "outputs": [
    {
     "name": "stdout",
     "output_type": "stream",
     "text": [
      "5\n"
     ]
    }
   ],
   "source": [
    "val1 = 2\n",
    "val2 = 3\n",
    "\n",
    "# using the addition operator\n",
    "res = val1 + val2\n",
    "print(res)\n"
   ]
  },
  {
   "cell_type": "code",
   "execution_count": null,
   "id": "5f34c819-e432-4235-835d-f396f6281060",
   "metadata": {},
   "outputs": [],
   "source": [
    "2. Subtraction Operator : In Python, – is the subtraction operator. It is used to subtract the second value from the first\n",
    "value.\n",
    "Example :"
   ]
  },
  {
   "cell_type": "code",
   "execution_count": 46,
   "id": "5c025819-ef0c-4576-94f5-3d3337380fe5",
   "metadata": {},
   "outputs": [
    {
     "name": "stdout",
     "output_type": "stream",
     "text": [
      "-1\n"
     ]
    }
   ],
   "source": [
    "val1 = 2\n",
    "val2 = 3\n",
    "\n",
    "# using the subtraction operator\n",
    "res = val1 - val2\n",
    "print(res)\n"
   ]
  },
  {
   "cell_type": "code",
   "execution_count": null,
   "id": "a8634e62-9970-47e7-81a5-23e5aca3189e",
   "metadata": {},
   "outputs": [],
   "source": [
    "3. Multiplication Operator : In Python, * is the multiplication operator. It is used to find the product of 2 values.\n",
    "Example :"
   ]
  },
  {
   "cell_type": "code",
   "execution_count": 47,
   "id": "b7a0b327-bb6c-4244-8040-ecf46173b0d8",
   "metadata": {},
   "outputs": [
    {
     "name": "stdout",
     "output_type": "stream",
     "text": [
      "6\n"
     ]
    }
   ],
   "source": [
    "val1 = 2\n",
    "val2 = 3\n",
    "\n",
    "# using the multiplication operator\n",
    "res = val1 * val2\n",
    "print(res)\n"
   ]
  },
  {
   "cell_type": "code",
   "execution_count": null,
   "id": "eaa884ea-5f8c-434f-b10e-dedb3fab72c7",
   "metadata": {},
   "outputs": [],
   "source": [
    "4. Division Operator : In Python, / is the division operator. It is used to find the quotient when first operand is divided\n",
    "by the second.\n",
    "Example :"
   ]
  },
  {
   "cell_type": "code",
   "execution_count": 48,
   "id": "b472c028-2671-427d-b90f-a473dc2f6f37",
   "metadata": {},
   "outputs": [
    {
     "name": "stdout",
     "output_type": "stream",
     "text": [
      "1.5\n"
     ]
    }
   ],
   "source": [
    "val1 = 3\n",
    "val2 = 2\n",
    "\n",
    "# using the division operator\n",
    "res = val1 / val2\n",
    "print(res)\n"
   ]
  },
  {
   "cell_type": "code",
   "execution_count": null,
   "id": "dd0124a0-db25-4c4c-ba56-428062a3286a",
   "metadata": {},
   "outputs": [],
   "source": [
    "5. Modulus Operator : In Python, % is the modulus operator. It is used to find the remainder when first operand is \n",
    "divided by the second.\n",
    "Example :"
   ]
  },
  {
   "cell_type": "code",
   "execution_count": 49,
   "id": "2a95abd3-53c5-485d-834f-a5aca78f16ff",
   "metadata": {},
   "outputs": [
    {
     "name": "stdout",
     "output_type": "stream",
     "text": [
      "1\n"
     ]
    }
   ],
   "source": [
    "val1 = 3\n",
    "val2 = 2\n",
    "\n",
    "# using the modulus operator\n",
    "res = val1 % val2\n",
    "print(res)\n"
   ]
  },
  {
   "cell_type": "code",
   "execution_count": null,
   "id": "d60a4ed8-bd9f-465c-8dfc-d160d620cf33",
   "metadata": {},
   "outputs": [],
   "source": [
    "6. Exponentiation Operator : In Python, ** is the exponentiation operator. It is used to raise the first operand to power\n",
    "of second.\n",
    "Example :"
   ]
  },
  {
   "cell_type": "code",
   "execution_count": 50,
   "id": "45aae65a-f3a6-4a7e-8593-124e6b807ee2",
   "metadata": {},
   "outputs": [
    {
     "name": "stdout",
     "output_type": "stream",
     "text": [
      "8\n"
     ]
    }
   ],
   "source": [
    "val1 = 2\n",
    "val2 = 3\n",
    "\n",
    "# using the exponentiation operator\n",
    "res = val1 ** val2\n",
    "print(res)\n"
   ]
  },
  {
   "cell_type": "code",
   "execution_count": null,
   "id": "f3a9beff-9c24-4b4a-9ac5-303d68930040",
   "metadata": {},
   "outputs": [],
   "source": [
    "7. Floor division : In Python, // is used to conduct the floor division. It is used to find the floor of the quotient when\n",
    "first operand is divided by the second.\n",
    "Example :"
   ]
  },
  {
   "cell_type": "code",
   "execution_count": 51,
   "id": "70348020-46b5-4813-8edc-7c0eab7766be",
   "metadata": {},
   "outputs": [
    {
     "name": "stdout",
     "output_type": "stream",
     "text": [
      "1\n"
     ]
    }
   ],
   "source": [
    "val1 = 3\n",
    "val2 = 2\n",
    "\n",
    "# using the floor division\n",
    "res = val1 // val2\n",
    "print(res)\n"
   ]
  },
  {
   "cell_type": "markdown",
   "id": "aa249c5f-32b9-49e8-a315-d5e03c654ad3",
   "metadata": {},
   "source": [
    "### Comparison Operators"
   ]
  },
  {
   "cell_type": "code",
   "execution_count": null,
   "id": "5db86d7f-4bd1-4ed7-96fa-c5a6800c4ec2",
   "metadata": {},
   "outputs": [],
   "source": [
    "Operator\t     Name\t                Example\t\n",
    "   ==\t        Equal\t                x == y\t\n",
    "   !=\t      Not equal\t                x != y\t\n",
    "   >\t   Greater than\t                x > y\t\n",
    "   <       \t Less than        \t        x < y\t\n",
    "   >=\tGreater than or equal to\t    x >= y\t\n",
    "   <=\t Less than or equal to      \tx <= y\t\n"
   ]
  },
  {
   "cell_type": "markdown",
   "id": "e0700cb7-f8dc-4598-91db-407863f9ff18",
   "metadata": {},
   "source": [
    "### Identify Operators"
   ]
  },
  {
   "cell_type": "code",
   "execution_count": null,
   "id": "66ec97cb-4cc5-4b2d-a70b-9e3f27cda2dc",
   "metadata": {},
   "outputs": [],
   "source": [
    "Operator\t                 Description                                 Example\t\n",
    "   is \t      Returns true if both variables are the same object          x is y\t\n",
    " is not\t    Returns true if both variables are not the same object\t    x is not y"
   ]
  },
  {
   "cell_type": "markdown",
   "id": "5a8889f3-971f-40ac-a1b1-9e8f764c52ae",
   "metadata": {},
   "source": [
    "### Membership operators"
   ]
  },
  {
   "cell_type": "code",
   "execution_count": null,
   "id": "87520a77-f245-46bf-8868-3765bde94167",
   "metadata": {},
   "outputs": [],
   "source": [
    "Operator\t                         Description\t                                        Example\n",
    "  in \t   Returns True if a sequence with the specified value is present in the object      x in y\t\n",
    "not in \tReturns True if a sequence with the specified value is not present in the object\tx not in y"
   ]
  },
  {
   "cell_type": "markdown",
   "id": "71dc3af3-d8a9-498e-8fa2-039c3ce723cc",
   "metadata": {},
   "source": [
    "### Bitwise Operators"
   ]
  },
  {
   "cell_type": "code",
   "execution_count": 52,
   "id": "5b45b70e-70ee-460a-a350-bd873bfeb1a7",
   "metadata": {},
   "outputs": [
    {
     "name": "stdout",
     "output_type": "stream",
     "text": [
      "a & b = 0\n",
      "a | b = 14\n",
      "~a = -11\n",
      "a ^ b = 14\n"
     ]
    }
   ],
   "source": [
    "# Python program to show\n",
    "# bitwise operators\n",
    "\n",
    "a = 10\n",
    "b = 4\n",
    "\n",
    "# Print bitwise AND operation\n",
    "print(\"a & b =\", a & b)\n",
    "\n",
    "# Print bitwise OR operation\n",
    "print(\"a | b =\", a | b)\n",
    "\n",
    "# Print bitwise NOT operation\n",
    "print(\"~a =\", ~a)\n",
    "\n",
    "# print bitwise XOR operation\n",
    "print(\"a ^ b =\", a ^ b)\n"
   ]
  },
  {
   "cell_type": "code",
   "execution_count": 53,
   "id": "2846ed70-4e28-4a49-8684-484344940b9c",
   "metadata": {},
   "outputs": [
    {
     "name": "stdout",
     "output_type": "stream",
     "text": [
      "a >> 1 = 5\n",
      "b >> 1 = -5\n",
      "a << 1 = 10\n",
      "b << 1 = -20\n"
     ]
    }
   ],
   "source": [
    "# Python program to show\n",
    "# shift operators\n",
    " \n",
    "a = 10\n",
    "b = -10\n",
    " \n",
    "# print bitwise right shift operator\n",
    "print(\"a >> 1 =\", a >> 1)\n",
    "print(\"b >> 1 =\", b >> 1)\n",
    " \n",
    "a = 5\n",
    "b = -10\n",
    " \n",
    "# print bitwise left shift operator\n",
    "print(\"a << 1 =\", a << 1)\n",
    "print(\"b << 1 =\", b << 1)"
   ]
  },
  {
   "cell_type": "code",
   "execution_count": 54,
   "id": "57d8f6e7-424e-418b-a742-ee19a7f624b5",
   "metadata": {},
   "outputs": [
    {
     "name": "stdout",
     "output_type": "stream",
     "text": [
      "And operator overloaded\n",
      "8\n",
      "Or operator overloaded\n",
      "14\n",
      "Xor operator overloaded\n",
      "6\n",
      "lshift operator overloaded\n",
      "40960\n",
      "rshift operator overloaded\n",
      "0\n",
      "Invert operator overloaded\n",
      "-11\n"
     ]
    }
   ],
   "source": [
    "# Python program to demonstrate\n",
    "# operator overloading\n",
    "\n",
    "\n",
    "class Geek():\n",
    "\tdef __init__(self, value):\n",
    "\t\tself.value = value\n",
    "\n",
    "\tdef __and__(self, obj):\n",
    "\t\tprint(\"And operator overloaded\")\n",
    "\t\tif isinstance(obj, Geek):\n",
    "\t\t\treturn self.value & obj.value\n",
    "\t\telse:\n",
    "\t\t\traise ValueError(\"Must be a object of class Geek\")\n",
    "\n",
    "\tdef __or__(self, obj):\n",
    "\t\tprint(\"Or operator overloaded\")\n",
    "\t\tif isinstance(obj, Geek):\n",
    "\t\t\treturn self.value | obj.value\n",
    "\t\telse:\n",
    "\t\t\traise ValueError(\"Must be a object of class Geek\")\n",
    "\n",
    "\tdef __xor__(self, obj):\n",
    "\t\tprint(\"Xor operator overloaded\")\n",
    "\t\tif isinstance(obj, Geek):\n",
    "\t\t\treturn self.value ^ obj.value\n",
    "\t\telse:\n",
    "\t\t\traise ValueError(\"Must be a object of class Geek\")\n",
    "\n",
    "\tdef __lshift__(self, obj):\n",
    "\t\tprint(\"lshift operator overloaded\")\n",
    "\t\tif isinstance(obj, Geek):\n",
    "\t\t\treturn self.value << obj.value\n",
    "\t\telse:\n",
    "\t\t\traise ValueError(\"Must be a object of class Geek\")\n",
    "\n",
    "\tdef __rshift__(self, obj):\n",
    "\t\tprint(\"rshift operator overloaded\")\n",
    "\t\tif isinstance(obj, Geek):\n",
    "\t\t\treturn self.value >> obj.value\n",
    "\t\telse:\n",
    "\t\t\traise ValueError(\"Must be a object of class Geek\")\n",
    "\n",
    "\tdef __invert__(self):\n",
    "\t\tprint(\"Invert operator overloaded\")\n",
    "\t\treturn ~self.value\n",
    "\n",
    "\n",
    "# Driver's code\n",
    "if __name__ == \"__main__\":\n",
    "\ta = Geek(10)\n",
    "\tb = Geek(12)\n",
    "\tprint(a & b)\n",
    "\tprint(a | b)\n",
    "\tprint(a ^ b)\n",
    "\tprint(a << b)\n",
    "\tprint(a >> b)\n",
    "\tprint(~a)\n"
   ]
  },
  {
   "cell_type": "code",
   "execution_count": null,
   "id": "e29025b7-fafb-425d-88d0-3405725f9583",
   "metadata": {},
   "outputs": [],
   "source": []
  }
 ],
 "metadata": {
  "kernelspec": {
   "display_name": "Python 3 (ipykernel)",
   "language": "python",
   "name": "python3"
  },
  "language_info": {
   "codemirror_mode": {
    "name": "ipython",
    "version": 3
   },
   "file_extension": ".py",
   "mimetype": "text/x-python",
   "name": "python",
   "nbconvert_exporter": "python",
   "pygments_lexer": "ipython3",
   "version": "3.10.8"
  }
 },
 "nbformat": 4,
 "nbformat_minor": 5
}
