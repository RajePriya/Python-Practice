{
 "cells": [
  {
   "cell_type": "markdown",
   "id": "1623af58-6434-4bfe-9573-62ae26772a9b",
   "metadata": {},
   "source": [
    "## Strings"
   ]
  },
  {
   "cell_type": "code",
   "execution_count": 1,
   "id": "e5c28c6f-39c4-4612-965b-d94a3e64d81b",
   "metadata": {},
   "outputs": [
    {
     "data": {
      "text/plain": [
       "'Welcome to the Data Science masters'"
      ]
     },
     "execution_count": 1,
     "metadata": {},
     "output_type": "execute_result"
    }
   ],
   "source": [
    "\"Welcome to the Data Science masters\""
   ]
  },
  {
   "cell_type": "code",
   "execution_count": 2,
   "id": "e1d2b3b7-dbab-4f48-8f86-5935c49cd6c4",
   "metadata": {},
   "outputs": [],
   "source": [
    "str1=\"Welcome to the Data Science Masters\""
   ]
  },
  {
   "cell_type": "code",
   "execution_count": 3,
   "id": "546f92b2-10fb-4cb6-ba55-b27756092cab",
   "metadata": {},
   "outputs": [
    {
     "data": {
      "text/plain": [
       "'Welcome to the Data Science Masters'"
      ]
     },
     "execution_count": 3,
     "metadata": {},
     "output_type": "execute_result"
    }
   ],
   "source": [
    "str1"
   ]
  },
  {
   "cell_type": "code",
   "execution_count": 4,
   "id": "22c47fc1-efc0-4f39-8bc4-a3ebf8cd72a0",
   "metadata": {},
   "outputs": [
    {
     "data": {
      "text/plain": [
       "str"
      ]
     },
     "execution_count": 4,
     "metadata": {},
     "output_type": "execute_result"
    }
   ],
   "source": [
    "type(str1)"
   ]
  },
  {
   "cell_type": "code",
   "execution_count": 7,
   "id": "02751ba8-d0b9-4e02-98cb-f1e4bc069c08",
   "metadata": {},
   "outputs": [],
   "source": [
    "welcome=\"Hello World\""
   ]
  },
  {
   "cell_type": "code",
   "execution_count": 8,
   "id": "ce5d495a-3cee-4dc7-a3da-b02ff96020aa",
   "metadata": {},
   "outputs": [],
   "source": [
    "string =\"Pw Skills Data Science\""
   ]
  },
  {
   "cell_type": "code",
   "execution_count": 9,
   "id": "2856eec6-00c4-4b9c-93f7-1606faa992a8",
   "metadata": {},
   "outputs": [
    {
     "data": {
      "text/plain": [
       "'ills Data Science'"
      ]
     },
     "execution_count": 9,
     "metadata": {},
     "output_type": "execute_result"
    }
   ],
   "source": [
    "string[5:]"
   ]
  },
  {
   "cell_type": "code",
   "execution_count": 10,
   "id": "eba5fb41-71b3-400f-9131-e87ba13e9552",
   "metadata": {},
   "outputs": [
    {
     "data": {
      "text/plain": [
       "'i'"
      ]
     },
     "execution_count": 10,
     "metadata": {},
     "output_type": "execute_result"
    }
   ],
   "source": [
    "string[5]"
   ]
  },
  {
   "cell_type": "code",
   "execution_count": 11,
   "id": "8a7d3093-6721-4de4-865b-3ea49e388e63",
   "metadata": {},
   "outputs": [
    {
     "data": {
      "text/plain": [
       "'ills D'"
      ]
     },
     "execution_count": 11,
     "metadata": {},
     "output_type": "execute_result"
    }
   ],
   "source": [
    "## Slice operation\n",
    "string[5:11]"
   ]
  },
  {
   "cell_type": "code",
   "execution_count": 12,
   "id": "0a91ff08-433f-49f9-8a93-87c874013876",
   "metadata": {},
   "outputs": [
    {
     "data": {
      "text/plain": [
       "'e'"
      ]
     },
     "execution_count": 12,
     "metadata": {},
     "output_type": "execute_result"
    }
   ],
   "source": [
    "string[-1]"
   ]
  },
  {
   "cell_type": "code",
   "execution_count": 13,
   "id": "e7e59315-2034-48e8-8843-2a57110509b0",
   "metadata": {},
   "outputs": [
    {
     "data": {
      "text/plain": [
       "'e'"
      ]
     },
     "execution_count": 13,
     "metadata": {},
     "output_type": "execute_result"
    }
   ],
   "source": [
    "string[-1:]"
   ]
  },
  {
   "cell_type": "code",
   "execution_count": 14,
   "id": "5d28dfda-2a87-424b-a16a-1af8a1877aad",
   "metadata": {},
   "outputs": [
    {
     "data": {
      "text/plain": [
       "'nce'"
      ]
     },
     "execution_count": 14,
     "metadata": {},
     "output_type": "execute_result"
    }
   ],
   "source": [
    "string[-3:]"
   ]
  },
  {
   "cell_type": "code",
   "execution_count": 15,
   "id": "9a1dd1be-9a6f-490f-bb03-ab73c0397cb2",
   "metadata": {},
   "outputs": [
    {
     "data": {
      "text/plain": [
       "'Scie'"
      ]
     },
     "execution_count": 15,
     "metadata": {},
     "output_type": "execute_result"
    }
   ],
   "source": [
    "string[-7:-3]"
   ]
  },
  {
   "cell_type": "code",
   "execution_count": 16,
   "id": "02ebdd46-b0cc-48b3-b950-18d68c34f3f0",
   "metadata": {},
   "outputs": [
    {
     "data": {
      "text/plain": [
       "''"
      ]
     },
     "execution_count": 16,
     "metadata": {},
     "output_type": "execute_result"
    }
   ],
   "source": [
    "string[-7:5]"
   ]
  },
  {
   "cell_type": "code",
   "execution_count": 17,
   "id": "cb7dda75-22eb-4ed1-b739-8d12e52c53f2",
   "metadata": {},
   "outputs": [
    {
     "data": {
      "text/plain": [
       "''"
      ]
     },
     "execution_count": 17,
     "metadata": {},
     "output_type": "execute_result"
    }
   ],
   "source": [
    "string[7:5]"
   ]
  },
  {
   "cell_type": "code",
   "execution_count": 18,
   "id": "f534f6b5-61aa-48a2-8eaf-febf54314ff7",
   "metadata": {},
   "outputs": [
    {
     "data": {
      "text/plain": [
       "''"
      ]
     },
     "execution_count": 18,
     "metadata": {},
     "output_type": "execute_result"
    }
   ],
   "source": [
    "string[-10:10]"
   ]
  },
  {
   "cell_type": "code",
   "execution_count": 19,
   "id": "a02ed019-3dab-4bf6-b8fb-c459657cc303",
   "metadata": {},
   "outputs": [
    {
     "data": {
      "text/plain": [
       "'Pw Skills Data Scienc'"
      ]
     },
     "execution_count": 19,
     "metadata": {},
     "output_type": "execute_result"
    }
   ],
   "source": [
    "string[:-1]"
   ]
  },
  {
   "cell_type": "code",
   "execution_count": 20,
   "id": "c3460b93-eec9-44fd-b07d-58028d89136d",
   "metadata": {},
   "outputs": [
    {
     "data": {
      "text/plain": [
       "'Pw Skills Data Science'"
      ]
     },
     "execution_count": 20,
     "metadata": {},
     "output_type": "execute_result"
    }
   ],
   "source": [
    "string[:]"
   ]
  },
  {
   "cell_type": "code",
   "execution_count": 21,
   "id": "a9aa03cb-880c-4d18-a5ad-e6123ffdfe83",
   "metadata": {},
   "outputs": [
    {
     "data": {
      "text/plain": [
       "'rt'"
      ]
     },
     "execution_count": 21,
     "metadata": {},
     "output_type": "execute_result"
    }
   ],
   "source": [
    "name=\"Karthik\"\n",
    "name[-5:4]"
   ]
  },
  {
   "cell_type": "code",
   "execution_count": 22,
   "id": "3b699648-4f76-40d5-90da-b46e2297c6a3",
   "metadata": {},
   "outputs": [
    {
     "data": {
      "text/plain": [
       "'Pw Skills Data Science'"
      ]
     },
     "execution_count": 22,
     "metadata": {},
     "output_type": "execute_result"
    }
   ],
   "source": [
    "string"
   ]
  },
  {
   "cell_type": "code",
   "execution_count": 23,
   "id": "a048f8d0-4a01-41a9-9ec5-26ce90a45ac0",
   "metadata": {},
   "outputs": [
    {
     "data": {
      "text/plain": [
       "'Pw Skills Data Science'"
      ]
     },
     "execution_count": 23,
     "metadata": {},
     "output_type": "execute_result"
    }
   ],
   "source": [
    "string[:]"
   ]
  },
  {
   "cell_type": "code",
   "execution_count": 24,
   "id": "21fe910b-08f4-4808-b529-ae4b7bcd9738",
   "metadata": {},
   "outputs": [
    {
     "data": {
      "text/plain": [
       "'ecneicS ataD sllikS wP'"
      ]
     },
     "execution_count": 24,
     "metadata": {},
     "output_type": "execute_result"
    }
   ],
   "source": [
    "string[::-1]"
   ]
  },
  {
   "cell_type": "code",
   "execution_count": 25,
   "id": "a6b804f7-4af3-4887-80d6-27e644a177c8",
   "metadata": {},
   "outputs": [
    {
     "data": {
      "text/plain": [
       "'eniSaa liSw'"
      ]
     },
     "execution_count": 25,
     "metadata": {},
     "output_type": "execute_result"
    }
   ],
   "source": [
    "string[::-2]"
   ]
  },
  {
   "cell_type": "code",
   "execution_count": 26,
   "id": "9b9c2f39-d8b9-48ef-bd36-fd90d4bdfa02",
   "metadata": {},
   "outputs": [
    {
     "data": {
      "text/plain": [
       "'likS wP'"
      ]
     },
     "execution_count": 26,
     "metadata": {},
     "output_type": "execute_result"
    }
   ],
   "source": [
    "string[6::-1]"
   ]
  },
  {
   "cell_type": "code",
   "execution_count": 27,
   "id": "aae68190-690a-47d2-adc3-a6d9267699a3",
   "metadata": {},
   "outputs": [
    {
     "data": {
      "text/plain": [
       "'eeSt lSP'"
      ]
     },
     "execution_count": 27,
     "metadata": {},
     "output_type": "execute_result"
    }
   ],
   "source": [
    "string[::-3]"
   ]
  },
  {
   "cell_type": "code",
   "execution_count": 28,
   "id": "00a182ee-fb0f-4b8b-b162-32ea14877121",
   "metadata": {},
   "outputs": [
    {
     "data": {
      "text/plain": [
       "'Pw Skills Data Science'"
      ]
     },
     "execution_count": 28,
     "metadata": {},
     "output_type": "execute_result"
    }
   ],
   "source": [
    "string[::1]"
   ]
  },
  {
   "cell_type": "code",
   "execution_count": 29,
   "id": "00b21024-66e0-4182-9ca8-b7806d25b1ec",
   "metadata": {},
   "outputs": [
    {
     "data": {
      "text/plain": [
       "'P klsDt cec'"
      ]
     },
     "execution_count": 29,
     "metadata": {},
     "output_type": "execute_result"
    }
   ],
   "source": [
    "string[::2]"
   ]
  },
  {
   "cell_type": "code",
   "execution_count": 30,
   "id": "408d0128-fe3e-4b0a-b7c6-9971293a9575",
   "metadata": {},
   "outputs": [
    {
     "data": {
      "text/plain": [
       "'PiDSc'"
      ]
     },
     "execution_count": 30,
     "metadata": {},
     "output_type": "execute_result"
    }
   ],
   "source": [
    "string[::5]"
   ]
  },
  {
   "cell_type": "code",
   "execution_count": 31,
   "id": "bafc9ba9-096f-4432-9433-c11eb383b20a",
   "metadata": {},
   "outputs": [],
   "source": [
    "name=\"Raje\""
   ]
  },
  {
   "cell_type": "code",
   "execution_count": 32,
   "id": "cfb4f885-43ba-437b-8a6d-5eeb137a0a6f",
   "metadata": {},
   "outputs": [
    {
     "data": {
      "text/plain": [
       "'ejaR'"
      ]
     },
     "execution_count": 32,
     "metadata": {},
     "output_type": "execute_result"
    }
   ],
   "source": [
    "name[::-1]"
   ]
  },
  {
   "cell_type": "code",
   "execution_count": 33,
   "id": "4147b5d7-1a72-4294-89c6-83704e6feafc",
   "metadata": {},
   "outputs": [
    {
     "data": {
      "text/plain": [
       "'Raje'"
      ]
     },
     "execution_count": 33,
     "metadata": {},
     "output_type": "execute_result"
    }
   ],
   "source": [
    "name[::1]"
   ]
  },
  {
   "cell_type": "code",
   "execution_count": 34,
   "id": "c060fa97-279f-4bde-9e1e-c55c14133094",
   "metadata": {},
   "outputs": [
    {
     "data": {
      "text/plain": [
       "'ea'"
      ]
     },
     "execution_count": 34,
     "metadata": {},
     "output_type": "execute_result"
    }
   ],
   "source": [
    "name[::-2]"
   ]
  },
  {
   "cell_type": "code",
   "execution_count": 35,
   "id": "1fd26578-4114-4122-876d-09036d69ae6f",
   "metadata": {},
   "outputs": [
    {
     "data": {
      "text/plain": [
       "'Re'"
      ]
     },
     "execution_count": 35,
     "metadata": {},
     "output_type": "execute_result"
    }
   ],
   "source": [
    "name[::3]"
   ]
  },
  {
   "cell_type": "code",
   "execution_count": 36,
   "id": "445504fb-5e2c-4f79-9593-8c4072ac9f71",
   "metadata": {},
   "outputs": [
    {
     "data": {
      "text/plain": [
       "'ejaR'"
      ]
     },
     "execution_count": 36,
     "metadata": {},
     "output_type": "execute_result"
    }
   ],
   "source": [
    "name[::-1]"
   ]
  },
  {
   "cell_type": "code",
   "execution_count": 37,
   "id": "56dbc223-e992-4954-83af-832559bcd37b",
   "metadata": {},
   "outputs": [
    {
     "data": {
      "text/plain": [
       "'ea'"
      ]
     },
     "execution_count": 37,
     "metadata": {},
     "output_type": "execute_result"
    }
   ],
   "source": [
    "name[4::-2]"
   ]
  },
  {
   "cell_type": "code",
   "execution_count": 38,
   "id": "a245bd48-de19-4e8e-a665-e3237a007541",
   "metadata": {},
   "outputs": [
    {
     "data": {
      "text/plain": [
       "'ejaR'"
      ]
     },
     "execution_count": 38,
     "metadata": {},
     "output_type": "execute_result"
    }
   ],
   "source": [
    "name[4::-1]"
   ]
  },
  {
   "cell_type": "code",
   "execution_count": 39,
   "id": "fbf93552-0ab0-4f19-b360-84a24476ed06",
   "metadata": {},
   "outputs": [
    {
     "data": {
      "text/plain": [
       "'jaR'"
      ]
     },
     "execution_count": 39,
     "metadata": {},
     "output_type": "execute_result"
    }
   ],
   "source": [
    "name[2::-1]"
   ]
  },
  {
   "cell_type": "code",
   "execution_count": 40,
   "id": "0cb32212-9f3a-4562-915b-c83b811308b2",
   "metadata": {},
   "outputs": [
    {
     "data": {
      "text/plain": [
       "'ej'"
      ]
     },
     "execution_count": 40,
     "metadata": {},
     "output_type": "execute_result"
    }
   ],
   "source": [
    "name[3:1:-1]"
   ]
  },
  {
   "cell_type": "code",
   "execution_count": 41,
   "id": "7f18ceea-1c89-40cc-bf83-2f377672a8d5",
   "metadata": {},
   "outputs": [],
   "source": [
    "course_name=\"Data Science Masters\""
   ]
  },
  {
   "cell_type": "code",
   "execution_count": 42,
   "id": "65b171d5-60ed-4b51-a146-3ae5a55e2c9e",
   "metadata": {},
   "outputs": [
    {
     "data": {
      "text/plain": [
       "'Science'"
      ]
     },
     "execution_count": 42,
     "metadata": {},
     "output_type": "execute_result"
    }
   ],
   "source": [
    "course_name[5:12]"
   ]
  },
  {
   "cell_type": "code",
   "execution_count": 43,
   "id": "559350f6-8b44-4a45-8572-2f6dd5fbcce0",
   "metadata": {},
   "outputs": [
    {
     "data": {
      "text/plain": [
       "'Scienc'"
      ]
     },
     "execution_count": 43,
     "metadata": {},
     "output_type": "execute_result"
    }
   ],
   "source": [
    "course_name[5:12-1]"
   ]
  },
  {
   "cell_type": "code",
   "execution_count": 44,
   "id": "b57dc2a0-be2d-449a-ad01-c71c51eb052e",
   "metadata": {},
   "outputs": [
    {
     "data": {
      "text/plain": [
       "'M ecneic'"
      ]
     },
     "execution_count": 44,
     "metadata": {},
     "output_type": "execute_result"
    }
   ],
   "source": [
    "course_name[13:5:-1]"
   ]
  },
  {
   "cell_type": "code",
   "execution_count": 45,
   "id": "319707fc-82ce-44ac-a504-11fe0ceb111f",
   "metadata": {},
   "outputs": [
    {
     "data": {
      "text/plain": [
       "'M ecnei'"
      ]
     },
     "execution_count": 45,
     "metadata": {},
     "output_type": "execute_result"
    }
   ],
   "source": [
    "course_name[13:6:-1]"
   ]
  },
  {
   "cell_type": "code",
   "execution_count": 46,
   "id": "a57ee944-d680-4327-ae66-c158467b4211",
   "metadata": {},
   "outputs": [
    {
     "data": {
      "text/plain": [
       "'ecneicS'"
      ]
     },
     "execution_count": 46,
     "metadata": {},
     "output_type": "execute_result"
    }
   ],
   "source": [
    "course_name[11:4:-1]"
   ]
  },
  {
   "cell_type": "code",
   "execution_count": 47,
   "id": "6042bae8-bfe2-4007-80e0-e633b2bfddaa",
   "metadata": {},
   "outputs": [
    {
     "data": {
      "text/plain": [
       "' ecneic'"
      ]
     },
     "execution_count": 47,
     "metadata": {},
     "output_type": "execute_result"
    }
   ],
   "source": [
    "course_name[12:5:-1]"
   ]
  },
  {
   "cell_type": "code",
   "execution_count": 49,
   "id": "c34f3f9d-53cd-4334-b740-fe4cdaf6f4e7",
   "metadata": {},
   "outputs": [
    {
     "data": {
      "text/plain": [
       "'Data Science Masters'"
      ]
     },
     "execution_count": 49,
     "metadata": {},
     "output_type": "execute_result"
    }
   ],
   "source": [
    "course_name"
   ]
  },
  {
   "cell_type": "code",
   "execution_count": 50,
   "id": "21e9be6f-77d8-4588-b0a4-761ba7d0557b",
   "metadata": {},
   "outputs": [
    {
     "data": {
      "text/plain": [
       "'Data Science MastersCourse'"
      ]
     },
     "execution_count": 50,
     "metadata": {},
     "output_type": "execute_result"
    }
   ],
   "source": [
    "## Concatenation\n",
    "course_name + \"Course\""
   ]
  },
  {
   "cell_type": "code",
   "execution_count": 51,
   "id": "84d97688-ffae-435b-aa12-8f4ef60d33a4",
   "metadata": {},
   "outputs": [
    {
     "data": {
      "text/plain": [
       "''"
      ]
     },
     "execution_count": 51,
     "metadata": {},
     "output_type": "execute_result"
    }
   ],
   "source": [
    "course_name[11:4:1]"
   ]
  },
  {
   "cell_type": "code",
   "execution_count": 52,
   "id": "738a5ca8-8fc7-49e3-b01b-2325e0391bea",
   "metadata": {},
   "outputs": [
    {
     "data": {
      "text/plain": [
       "' Scienc'"
      ]
     },
     "execution_count": 52,
     "metadata": {},
     "output_type": "execute_result"
    }
   ],
   "source": [
    "course_name[4:11:1]"
   ]
  },
  {
   "cell_type": "code",
   "execution_count": 53,
   "id": "56d9296b-09fa-4eb1-919d-2ba5e17c957a",
   "metadata": {},
   "outputs": [
    {
     "name": "stdout",
     "output_type": "stream",
     "text": [
      "HelloWorlds\n"
     ]
    }
   ],
   "source": [
    "print(\"Hello\" + \"Worlds\")"
   ]
  },
  {
   "cell_type": "code",
   "execution_count": 54,
   "id": "f2588726-0233-4704-9c1c-94c6a6497139",
   "metadata": {},
   "outputs": [
    {
     "data": {
      "text/plain": [
       "'Data Science MastersData Science MastersData Science MastersData Science MastersData Science Masters'"
      ]
     },
     "execution_count": 54,
     "metadata": {},
     "output_type": "execute_result"
    }
   ],
   "source": [
    "course_name *5"
   ]
  },
  {
   "cell_type": "code",
   "execution_count": 55,
   "id": "da83d773-787a-44ea-a45b-b20fc74664c5",
   "metadata": {},
   "outputs": [
    {
     "data": {
      "text/plain": [
       "20"
      ]
     },
     "execution_count": 55,
     "metadata": {},
     "output_type": "execute_result"
    }
   ],
   "source": [
    "len(course_name)"
   ]
  },
  {
   "cell_type": "code",
   "execution_count": 56,
   "id": "ceb46408-657a-4b45-8f03-628f8a1cbd3b",
   "metadata": {},
   "outputs": [
    {
     "data": {
      "text/plain": [
       "9"
      ]
     },
     "execution_count": 56,
     "metadata": {},
     "output_type": "execute_result"
    }
   ],
   "source": [
    "## find function\n",
    "course_name.find(\"n\")"
   ]
  },
  {
   "cell_type": "code",
   "execution_count": 57,
   "id": "72a87a69-b8a4-4efa-8252-c9ec4e99cd43",
   "metadata": {},
   "outputs": [
    {
     "data": {
      "text/plain": [
       "1"
      ]
     },
     "execution_count": 57,
     "metadata": {},
     "output_type": "execute_result"
    }
   ],
   "source": [
    "course_name.find(\"a\")"
   ]
  },
  {
   "cell_type": "code",
   "execution_count": 58,
   "id": "c444dc58-7e36-4fe4-98de-3ab8389ac690",
   "metadata": {},
   "outputs": [
    {
     "data": {
      "text/plain": [
       "3"
      ]
     },
     "execution_count": 58,
     "metadata": {},
     "output_type": "execute_result"
    }
   ],
   "source": [
    "course_name.find(\"a\",2,10)"
   ]
  },
  {
   "cell_type": "code",
   "execution_count": 59,
   "id": "f78f654e-7c96-4e4e-a264-67519384d3fd",
   "metadata": {},
   "outputs": [
    {
     "data": {
      "text/plain": [
       "-1"
      ]
     },
     "execution_count": 59,
     "metadata": {},
     "output_type": "execute_result"
    }
   ],
   "source": [
    "course_name.find(\"z\")"
   ]
  },
  {
   "cell_type": "code",
   "execution_count": 60,
   "id": "e700d529-4644-4f3a-b5c8-ab10819a3b0c",
   "metadata": {},
   "outputs": [
    {
     "data": {
      "text/plain": [
       "3"
      ]
     },
     "execution_count": 60,
     "metadata": {},
     "output_type": "execute_result"
    }
   ],
   "source": [
    "## count()\n",
    "course_name.count('a')"
   ]
  },
  {
   "cell_type": "code",
   "execution_count": 61,
   "id": "3e4d5c32-db5b-4e3e-a536-48a9d5ece258",
   "metadata": {},
   "outputs": [
    {
     "data": {
      "text/plain": [
       "21"
      ]
     },
     "execution_count": 61,
     "metadata": {},
     "output_type": "execute_result"
    }
   ],
   "source": [
    "course_name.count('')"
   ]
  },
  {
   "cell_type": "code",
   "execution_count": 62,
   "id": "0646bfe3-b960-4b76-8efb-dbf979b790d1",
   "metadata": {},
   "outputs": [
    {
     "data": {
      "text/plain": [
       "2"
      ]
     },
     "execution_count": 62,
     "metadata": {},
     "output_type": "execute_result"
    }
   ],
   "source": [
    "course_name.count(' ')"
   ]
  },
  {
   "cell_type": "markdown",
   "id": "c6336aa0-7019-4e48-ad11-f36d577e5b65",
   "metadata": {},
   "source": [
    "## String Split function"
   ]
  },
  {
   "cell_type": "code",
   "execution_count": 63,
   "id": "0404f7dc-f956-4077-85c0-568e84c7aacb",
   "metadata": {},
   "outputs": [
    {
     "data": {
      "text/plain": [
       "['Data', 'Science', 'Masters']"
      ]
     },
     "execution_count": 63,
     "metadata": {},
     "output_type": "execute_result"
    }
   ],
   "source": [
    "course_name.split(' ')"
   ]
  },
  {
   "cell_type": "code",
   "execution_count": 64,
   "id": "d0336993-458f-4bcd-a829-9e9ab292e085",
   "metadata": {},
   "outputs": [
    {
     "data": {
      "text/plain": [
       "['Data Science Ma', 'ter', '']"
      ]
     },
     "execution_count": 64,
     "metadata": {},
     "output_type": "execute_result"
    }
   ],
   "source": [
    "course_name.split('s')"
   ]
  },
  {
   "cell_type": "code",
   "execution_count": 65,
   "id": "8c40c191-df65-4256-9c05-cf4990dd43e4",
   "metadata": {},
   "outputs": [
    {
     "data": {
      "text/plain": [
       "['Data Science ', 'asters']"
      ]
     },
     "execution_count": 65,
     "metadata": {},
     "output_type": "execute_result"
    }
   ],
   "source": [
    "course_name.split('M')"
   ]
  },
  {
   "cell_type": "code",
   "execution_count": 66,
   "id": "de5959a3-e77d-4a98-a008-5b5c6e1a5d9c",
   "metadata": {},
   "outputs": [
    {
     "data": {
      "text/plain": [
       "('Data Science Ma', 's', 'ters')"
      ]
     },
     "execution_count": 66,
     "metadata": {},
     "output_type": "execute_result"
    }
   ],
   "source": [
    "course_name.partition('s')"
   ]
  },
  {
   "cell_type": "code",
   "execution_count": 67,
   "id": "a7061740-70b5-4521-9b3a-aabb4e6979fc",
   "metadata": {},
   "outputs": [
    {
     "data": {
      "text/plain": [
       "('Data Science Ma', 's', 'ters')"
      ]
     },
     "execution_count": 67,
     "metadata": {},
     "output_type": "execute_result"
    }
   ],
   "source": [
    "course_name.partition('s')"
   ]
  },
  {
   "cell_type": "code",
   "execution_count": 68,
   "id": "60036b30-14a2-4eb5-9539-a8fd3b5b71df",
   "metadata": {},
   "outputs": [
    {
     "data": {
      "text/plain": [
       "'DATA SCIENCE MASTERS'"
      ]
     },
     "execution_count": 68,
     "metadata": {},
     "output_type": "execute_result"
    }
   ],
   "source": [
    "## string upper and lowercase\n",
    "course_name.upper()"
   ]
  },
  {
   "cell_type": "code",
   "execution_count": 69,
   "id": "dadcd053-c4c6-4f4e-9661-fd274b37694c",
   "metadata": {},
   "outputs": [
    {
     "data": {
      "text/plain": [
       "'data science masters'"
      ]
     },
     "execution_count": 69,
     "metadata": {},
     "output_type": "execute_result"
    }
   ],
   "source": [
    "course_name.lower()"
   ]
  },
  {
   "cell_type": "code",
   "execution_count": 70,
   "id": "7c3122a3-f01f-4b3b-be43-ffc49ffb46a9",
   "metadata": {},
   "outputs": [
    {
     "data": {
      "text/plain": [
       "'dATA sCIENCE mASTERS'"
      ]
     },
     "execution_count": 70,
     "metadata": {},
     "output_type": "execute_result"
    }
   ],
   "source": [
    "course_name.swapcase()"
   ]
  },
  {
   "cell_type": "code",
   "execution_count": 71,
   "id": "5cb10725-77ec-4cd8-aab9-cb63daa7902d",
   "metadata": {},
   "outputs": [
    {
     "data": {
      "text/plain": [
       "'Data Science Masters'"
      ]
     },
     "execution_count": 71,
     "metadata": {},
     "output_type": "execute_result"
    }
   ],
   "source": [
    "course_name.title()"
   ]
  },
  {
   "cell_type": "code",
   "execution_count": 72,
   "id": "991bc62a-9a24-43a4-b324-819aee264ef7",
   "metadata": {},
   "outputs": [],
   "source": [
    "name=\"raje priya\""
   ]
  },
  {
   "cell_type": "code",
   "execution_count": 73,
   "id": "03f798d4-9b76-4402-b4a4-8f029c30c0a7",
   "metadata": {},
   "outputs": [
    {
     "data": {
      "text/plain": [
       "'Raje Priya'"
      ]
     },
     "execution_count": 73,
     "metadata": {},
     "output_type": "execute_result"
    }
   ],
   "source": [
    "name.title()"
   ]
  },
  {
   "cell_type": "raw",
   "id": "1cad564d-2b2c-4a51-acda-48f152746006",
   "metadata": {},
   "source": [
    "These are all the string operations"
   ]
  },
  {
   "cell_type": "code",
   "execution_count": null,
   "id": "f43d3536-7937-4f5d-b4a4-e509621496d9",
   "metadata": {},
   "outputs": [],
   "source": [
    "name=\"Data science Masters\""
   ]
  },
  {
   "cell_type": "code",
   "execution_count": 74,
   "id": "e65a0904-45f8-45df-882c-fce650c9fac7",
   "metadata": {},
   "outputs": [
    {
     "data": {
      "text/plain": [
       "'RAJE PRIYA'"
      ]
     },
     "execution_count": 74,
     "metadata": {},
     "output_type": "execute_result"
    }
   ],
   "source": [
    "name.swapcase()"
   ]
  },
  {
   "cell_type": "code",
   "execution_count": 75,
   "id": "89299710-cc2a-49f5-93ff-89e1548583be",
   "metadata": {},
   "outputs": [
    {
     "data": {
      "text/plain": [
       "'Raje Priya'"
      ]
     },
     "execution_count": 75,
     "metadata": {},
     "output_type": "execute_result"
    }
   ],
   "source": [
    "name.title()"
   ]
  },
  {
   "cell_type": "code",
   "execution_count": 76,
   "id": "6c4ea975-865f-4868-8ad3-ae4696c5249f",
   "metadata": {},
   "outputs": [
    {
     "data": {
      "text/plain": [
       "'Raje priya'"
      ]
     },
     "execution_count": 76,
     "metadata": {},
     "output_type": "execute_result"
    }
   ],
   "source": [
    "name.capitalize()"
   ]
  },
  {
   "cell_type": "markdown",
   "id": "255ee2e7-b416-4d3f-8dbd-c0be1b748c1f",
   "metadata": {},
   "source": [
    "## Reversing a string"
   ]
  },
  {
   "cell_type": "code",
   "execution_count": 77,
   "id": "5be3d51a-d235-4b9d-8b1a-9fbc85ddef69",
   "metadata": {},
   "outputs": [
    {
     "data": {
      "text/plain": [
       "'ayirp ejar'"
      ]
     },
     "execution_count": 77,
     "metadata": {},
     "output_type": "execute_result"
    }
   ],
   "source": [
    "name[::-1]"
   ]
  },
  {
   "cell_type": "code",
   "execution_count": 78,
   "id": "02854fe9-26c4-46c2-89e3-c702392cc254",
   "metadata": {},
   "outputs": [
    {
     "data": {
      "text/plain": [
       "<reversed at 0x7ff94ce15060>"
      ]
     },
     "execution_count": 78,
     "metadata": {},
     "output_type": "execute_result"
    }
   ],
   "source": [
    "reversed(name)"
   ]
  },
  {
   "cell_type": "code",
   "execution_count": 79,
   "id": "4b021d01-78be-4112-b00e-64ab111e52e5",
   "metadata": {},
   "outputs": [
    {
     "data": {
      "text/plain": [
       "'a y i r p   e j a r'"
      ]
     },
     "execution_count": 79,
     "metadata": {},
     "output_type": "execute_result"
    }
   ],
   "source": [
    "' '.join(reversed(name))"
   ]
  },
  {
   "cell_type": "code",
   "execution_count": 80,
   "id": "4d598379-6456-4312-a597-d332df3908f2",
   "metadata": {},
   "outputs": [
    {
     "data": {
      "text/plain": [
       "'PRajerRajeiRajeyRajea'"
      ]
     },
     "execution_count": 80,
     "metadata": {},
     "output_type": "execute_result"
    }
   ],
   "source": [
    "\"Raje\".join(\"Priya\")"
   ]
  },
  {
   "cell_type": "code",
   "execution_count": 81,
   "id": "ce7869ed-ec82-4a68-8c7d-3f577f0828d5",
   "metadata": {},
   "outputs": [
    {
     "data": {
      "text/plain": [
       "'a b c d'"
      ]
     },
     "execution_count": 81,
     "metadata": {},
     "output_type": "execute_result"
    }
   ],
   "source": [
    "\" \".join(\"abcd\")"
   ]
  },
  {
   "cell_type": "code",
   "execution_count": 82,
   "id": "5dc4e8fe-ef7c-4ba2-bd57-12aaf5af581c",
   "metadata": {},
   "outputs": [
    {
     "data": {
      "text/plain": [
       "'a n t'"
      ]
     },
     "execution_count": 82,
     "metadata": {},
     "output_type": "execute_result"
    }
   ],
   "source": [
    "' '.join(\"ant\")"
   ]
  },
  {
   "cell_type": "code",
   "execution_count": 83,
   "id": "1ac7f4b5-94a8-4aaf-afb3-96d4e9d37569",
   "metadata": {},
   "outputs": [
    {
     "data": {
      "text/plain": [
       "'t n a'"
      ]
     },
     "execution_count": 83,
     "metadata": {},
     "output_type": "execute_result"
    }
   ],
   "source": [
    "' '.join(reversed(\"ant\"))"
   ]
  },
  {
   "cell_type": "code",
   "execution_count": 84,
   "id": "622fb31f-d9f2-4549-a4fc-15e367720470",
   "metadata": {},
   "outputs": [
    {
     "data": {
      "text/plain": [
       "'t Pwskills n Pwskills a'"
      ]
     },
     "execution_count": 84,
     "metadata": {},
     "output_type": "execute_result"
    }
   ],
   "source": [
    "' Pwskills '.join(reversed(\"ant\"))"
   ]
  },
  {
   "cell_type": "code",
   "execution_count": 85,
   "id": "6cd37d0a-ab38-4fbf-b588-9ea3b23fcbde",
   "metadata": {},
   "outputs": [
    {
     "data": {
      "text/plain": [
       "<reversed at 0x7ff95c0dbfd0>"
      ]
     },
     "execution_count": 85,
     "metadata": {},
     "output_type": "execute_result"
    }
   ],
   "source": [
    "reversed(\"ant\")"
   ]
  },
  {
   "cell_type": "code",
   "execution_count": 86,
   "id": "712968c3-71c4-4de1-b369-5ed177db9fdd",
   "metadata": {},
   "outputs": [
    {
     "data": {
      "text/plain": [
       "['t', 'n', 'a']"
      ]
     },
     "execution_count": 86,
     "metadata": {},
     "output_type": "execute_result"
    }
   ],
   "source": [
    "## typecasting\n",
    "list(reversed(\"ant\"))"
   ]
  },
  {
   "cell_type": "code",
   "execution_count": 87,
   "id": "110abe01-b7fa-4922-ae2b-2f58bbf99a5a",
   "metadata": {},
   "outputs": [],
   "source": [
    "str1=\"PW is a good company\""
   ]
  },
  {
   "cell_type": "code",
   "execution_count": 88,
   "id": "f80e2f7a-ed3d-4ce4-850f-1e6e7191989e",
   "metadata": {},
   "outputs": [
    {
     "data": {
      "text/plain": [
       "'PSkillsWSkills SkillsiSkillssSkills SkillsaSkills SkillsgSkillsoSkillsoSkillsdSkills SkillscSkillsoSkillsmSkillspSkillsaSkillsnSkillsy'"
      ]
     },
     "execution_count": 88,
     "metadata": {},
     "output_type": "execute_result"
    }
   ],
   "source": [
    "\"Skills\".join(str1)"
   ]
  },
  {
   "cell_type": "code",
   "execution_count": 89,
   "id": "089a2a1f-12cc-4647-86ed-ef01aca9cc2e",
   "metadata": {},
   "outputs": [
    {
     "name": "stdout",
     "output_type": "stream",
     "text": [
      "a y i r p   e j a r "
     ]
    }
   ],
   "source": [
    "for i in list(reversed (name)):\n",
    "    print(i,end=' ')\n"
   ]
  },
  {
   "cell_type": "raw",
   "id": "dea3a1bf-41e8-458c-811a-669ff8dce8e9",
   "metadata": {},
   "source": [
    "## Removing character from the end of the string"
   ]
  },
  {
   "cell_type": "code",
   "execution_count": 90,
   "id": "e9f28825-e610-4b45-9754-ac97eee9c50a",
   "metadata": {},
   "outputs": [],
   "source": [
    "string_a=\" pwskills \""
   ]
  },
  {
   "cell_type": "code",
   "execution_count": 91,
   "id": "a5e2d542-da39-492c-a4ef-b1425d29a728",
   "metadata": {},
   "outputs": [
    {
     "data": {
      "text/plain": [
       "'pwskills'"
      ]
     },
     "execution_count": 91,
     "metadata": {},
     "output_type": "execute_result"
    }
   ],
   "source": [
    "string_a.strip(\" \")"
   ]
  },
  {
   "cell_type": "code",
   "execution_count": 92,
   "id": "170e9e8b-9b96-4ada-adec-3e5c38e9d5c0",
   "metadata": {},
   "outputs": [
    {
     "data": {
      "text/plain": [
       "'pwskills '"
      ]
     },
     "execution_count": 92,
     "metadata": {},
     "output_type": "execute_result"
    }
   ],
   "source": [
    "string_a.lstrip(\" \")"
   ]
  },
  {
   "cell_type": "code",
   "execution_count": 93,
   "id": "151c44de-175f-45c4-af24-68a5109ab80c",
   "metadata": {},
   "outputs": [
    {
     "data": {
      "text/plain": [
       "' pwskills'"
      ]
     },
     "execution_count": 93,
     "metadata": {},
     "output_type": "execute_result"
    }
   ],
   "source": [
    "string_a.rstrip(\" \")"
   ]
  },
  {
   "cell_type": "code",
   "execution_count": 94,
   "id": "fcbcab57-d6ac-41f7-8a36-4bfae88964b4",
   "metadata": {},
   "outputs": [
    {
     "data": {
      "text/plain": [
       "'Greeting from Pwskills'"
      ]
     },
     "execution_count": 94,
     "metadata": {},
     "output_type": "execute_result"
    }
   ],
   "source": [
    "string_n=\"Greeting to Pwskills\"\n",
    "string_n.replace(\"to\",\"from\")"
   ]
  },
  {
   "cell_type": "code",
   "execution_count": 95,
   "id": "9ede66ad-16e4-4f5a-b880-751d3ce56999",
   "metadata": {},
   "outputs": [],
   "source": [
    "name=\"Raje\""
   ]
  },
  {
   "cell_type": "code",
   "execution_count": 96,
   "id": "a2ce5e07-cb36-4b78-a3e2-342e3fe64b2d",
   "metadata": {},
   "outputs": [],
   "source": [
    "name=\"Pwskills\""
   ]
  },
  {
   "cell_type": "code",
   "execution_count": 97,
   "id": "8534fcd9-7612-4a51-95af-065ef037a9c2",
   "metadata": {},
   "outputs": [
    {
     "data": {
      "text/plain": [
       "'Welcome to Pwskills'"
      ]
     },
     "execution_count": 97,
     "metadata": {},
     "output_type": "execute_result"
    }
   ],
   "source": [
    "string_n=\"Greeting to Pwskills\"\n",
    "string_n.replace(\"Greeting\",\"Welcome\")"
   ]
  },
  {
   "cell_type": "code",
   "execution_count": 98,
   "id": "95abb99e-386b-4651-a06f-08634cd99929",
   "metadata": {},
   "outputs": [
    {
     "data": {
      "text/plain": [
       "'Treeting to Pwskills'"
      ]
     },
     "execution_count": 98,
     "metadata": {},
     "output_type": "execute_result"
    }
   ],
   "source": [
    "string_n=\"Greeting to Pwskills\"\n",
    "string_n.replace(\"G\",\"T\")"
   ]
  },
  {
   "cell_type": "code",
   "execution_count": 99,
   "id": "a34166fd-a18a-4472-b269-04ef293346a5",
   "metadata": {},
   "outputs": [],
   "source": [
    "string_n=\"Greeting to Pwskills\"\n",
    "var_a=string_n.replace(\"G\",\"T\")"
   ]
  },
  {
   "cell_type": "code",
   "execution_count": 100,
   "id": "b26a0f73-d7a2-4554-97f4-45480c55b043",
   "metadata": {},
   "outputs": [
    {
     "name": "stdout",
     "output_type": "stream",
     "text": [
      "140708713059856\n",
      "140708713056896\n"
     ]
    }
   ],
   "source": [
    "print(id(string_n))\n",
    "print(id(var_a))"
   ]
  },
  {
   "cell_type": "code",
   "execution_count": 101,
   "id": "613e6a72-e31c-4b20-a7d3-9fbcff1566e7",
   "metadata": {},
   "outputs": [
    {
     "data": {
      "text/plain": [
       "'hello world'"
      ]
     },
     "execution_count": 101,
     "metadata": {},
     "output_type": "execute_result"
    }
   ],
   "source": [
    "\"hello world\""
   ]
  },
  {
   "cell_type": "code",
   "execution_count": 102,
   "id": "583cecc9-0f0b-4e82-8f55-70315b2e2983",
   "metadata": {},
   "outputs": [
    {
     "data": {
      "text/plain": [
       "'Greeting to Pwskills'"
      ]
     },
     "execution_count": 102,
     "metadata": {},
     "output_type": "execute_result"
    }
   ],
   "source": [
    "string_n=\"Greeting to Pwskills\"\n",
    "var_a=string_n.replace(\"@\",\" \")\n",
    "var_a"
   ]
  },
  {
   "cell_type": "code",
   "execution_count": 103,
   "id": "17865a0a-1dbf-40f3-bf31-1ae16a12c7e8",
   "metadata": {},
   "outputs": [
    {
     "data": {
      "text/plain": [
       "'hello \\nworld'"
      ]
     },
     "execution_count": 103,
     "metadata": {},
     "output_type": "execute_result"
    }
   ],
   "source": [
    "\"hello \\nworld\""
   ]
  },
  {
   "cell_type": "code",
   "execution_count": 104,
   "id": "7347ba64-49d9-407c-9021-4ed332036c23",
   "metadata": {},
   "outputs": [
    {
     "data": {
      "text/plain": [
       "'hello   world'"
      ]
     },
     "execution_count": 104,
     "metadata": {},
     "output_type": "execute_result"
    }
   ],
   "source": [
    "'hello \\tworld'.expandtabs()"
   ]
  },
  {
   "cell_type": "code",
   "execution_count": 105,
   "id": "ae64acdf-0d9b-4e0b-8de6-20605e467d37",
   "metadata": {},
   "outputs": [],
   "source": [
    "str1=\"Welcome to pwskills .Welcome to Dat cience Masters\""
   ]
  },
  {
   "cell_type": "code",
   "execution_count": 106,
   "id": "8d01b83b-a182-4582-92de-2ebd873bf1df",
   "metadata": {},
   "outputs": [
    {
     "data": {
      "text/plain": [
       "'Welcome to pwskills .Welcome to Data Science Masters'"
      ]
     },
     "execution_count": 106,
     "metadata": {},
     "output_type": "execute_result"
    }
   ],
   "source": [
    "str1.replace(\"Dat\",\"Data\").replace(\"cience\",\"Science\")"
   ]
  },
  {
   "cell_type": "code",
   "execution_count": 107,
   "id": "692c5d7d-5a98-473c-8f23-10d21dc2aec3",
   "metadata": {},
   "outputs": [
    {
     "data": {
      "text/plain": [
       "False"
      ]
     },
     "execution_count": 107,
     "metadata": {},
     "output_type": "execute_result"
    }
   ],
   "source": [
    "str1.isupper()"
   ]
  },
  {
   "cell_type": "code",
   "execution_count": 108,
   "id": "23de407d-fd32-429b-ac02-1f5d751b3120",
   "metadata": {},
   "outputs": [],
   "source": [
    "str1=\"RAJE\""
   ]
  },
  {
   "cell_type": "code",
   "execution_count": 109,
   "id": "8d349c0c-fc2f-4e42-9ba0-33efaee66502",
   "metadata": {},
   "outputs": [
    {
     "data": {
      "text/plain": [
       "True"
      ]
     },
     "execution_count": 109,
     "metadata": {},
     "output_type": "execute_result"
    }
   ],
   "source": [
    "str1.isupper()"
   ]
  },
  {
   "cell_type": "code",
   "execution_count": 110,
   "id": "cf9c25a7-997b-4ee0-a914-5c5a05aef025",
   "metadata": {},
   "outputs": [
    {
     "data": {
      "text/plain": [
       "False"
      ]
     },
     "execution_count": 110,
     "metadata": {},
     "output_type": "execute_result"
    }
   ],
   "source": [
    "str1.islower()"
   ]
  },
  {
   "cell_type": "code",
   "execution_count": 111,
   "id": "e391e2a1-d9f3-4020-ba73-4ca8f9163b36",
   "metadata": {},
   "outputs": [
    {
     "data": {
      "text/plain": [
       "False"
      ]
     },
     "execution_count": 111,
     "metadata": {},
     "output_type": "execute_result"
    }
   ],
   "source": [
    "str1.isspace()"
   ]
  },
  {
   "cell_type": "code",
   "execution_count": 112,
   "id": "3b6c85e1-29d0-4f7b-8214-0db661004e1e",
   "metadata": {},
   "outputs": [
    {
     "data": {
      "text/plain": [
       "True"
      ]
     },
     "execution_count": 112,
     "metadata": {},
     "output_type": "execute_result"
    }
   ],
   "source": [
    "' '.isspace()"
   ]
  },
  {
   "cell_type": "code",
   "execution_count": 113,
   "id": "429bd6e0-66f6-4f30-8796-6ef7b9d8fc6e",
   "metadata": {},
   "outputs": [
    {
     "name": "stdout",
     "output_type": "stream",
     "text": [
      "Hello\n"
     ]
    }
   ],
   "source": [
    "if \" \".isspace():\n",
    "    print(\"Hello\")"
   ]
  },
  {
   "cell_type": "code",
   "execution_count": 114,
   "id": "a59fb792-ea75-4bbe-92ca-e56f800caad3",
   "metadata": {},
   "outputs": [],
   "source": [
    "str2=\"pwskills\""
   ]
  },
  {
   "cell_type": "code",
   "execution_count": 115,
   "id": "20bede08-bb4f-41a2-8e0d-5668146b0fa3",
   "metadata": {},
   "outputs": [
    {
     "data": {
      "text/plain": [
       "True"
      ]
     },
     "execution_count": 115,
     "metadata": {},
     "output_type": "execute_result"
    }
   ],
   "source": [
    "str2.endswith('s')"
   ]
  },
  {
   "cell_type": "code",
   "execution_count": 116,
   "id": "555e636e-61eb-404d-847b-f9a19704e33a",
   "metadata": {},
   "outputs": [
    {
     "data": {
      "text/plain": [
       "False"
      ]
     },
     "execution_count": 116,
     "metadata": {},
     "output_type": "execute_result"
    }
   ],
   "source": [
    "str2.startswith('s')"
   ]
  },
  {
   "cell_type": "code",
   "execution_count": 117,
   "id": "17b0acd0-3073-4440-8bbf-4b244b7f09f9",
   "metadata": {},
   "outputs": [
    {
     "data": {
      "text/plain": [
       "True"
      ]
     },
     "execution_count": 117,
     "metadata": {},
     "output_type": "execute_result"
    }
   ],
   "source": [
    "## check if all the char in string are alphanumeric\n",
    "a=\"abcd1234\"\n",
    "a.isalnum()"
   ]
  },
  {
   "cell_type": "code",
   "execution_count": 118,
   "id": "da884616-c6f0-4b04-883f-8c6d304dd5db",
   "metadata": {},
   "outputs": [
    {
     "name": "stdout",
     "output_type": "stream",
     "text": [
      "8\n"
     ]
    }
   ],
   "source": [
    "count=0\n",
    "for i in str2:\n",
    "    count=count+1\n",
    "    \n",
    "print(count)"
   ]
  },
  {
   "cell_type": "code",
   "execution_count": 119,
   "id": "6aad5b05-d1b1-41e7-9e8f-802950914635",
   "metadata": {},
   "outputs": [
    {
     "data": {
      "text/plain": [
       "8"
      ]
     },
     "execution_count": 119,
     "metadata": {},
     "output_type": "execute_result"
    }
   ],
   "source": [
    "len(str2)"
   ]
  },
  {
   "cell_type": "code",
   "execution_count": 120,
   "id": "adbe68c5-2538-4794-8495-a28462fc528c",
   "metadata": {},
   "outputs": [
    {
     "data": {
      "text/plain": [
       "'pwskills'"
      ]
     },
     "execution_count": 120,
     "metadata": {},
     "output_type": "execute_result"
    }
   ],
   "source": [
    "str2"
   ]
  },
  {
   "cell_type": "code",
   "execution_count": 121,
   "id": "cacf4a65-edcc-4754-b7ee-f960fc61ba78",
   "metadata": {},
   "outputs": [
    {
     "name": "stdout",
     "output_type": "stream",
     "text": [
      "p\n",
      "w\n",
      "s\n",
      "k\n",
      "i\n",
      "l\n",
      "l\n",
      "s\n"
     ]
    }
   ],
   "source": [
    "for i in str2:\n",
    "    print(i)"
   ]
  },
  {
   "cell_type": "code",
   "execution_count": 122,
   "id": "bae247e1-f569-4857-a257-7cb06c9e1a1d",
   "metadata": {},
   "outputs": [
    {
     "name": "stdout",
     "output_type": "stream",
     "text": [
      "p\n",
      "w\n",
      "s\n",
      "k\n",
      "i\n",
      "l\n",
      "l\n",
      "s\n"
     ]
    }
   ],
   "source": [
    "for i in range(len(str2)):\n",
    "    print(str2[i])"
   ]
  },
  {
   "cell_type": "code",
   "execution_count": 123,
   "id": "6513099d-d8f3-4dea-9126-190c8b7a5492",
   "metadata": {},
   "outputs": [
    {
     "data": {
      "text/plain": [
       "range(0, 8)"
      ]
     },
     "execution_count": 123,
     "metadata": {},
     "output_type": "execute_result"
    }
   ],
   "source": [
    "range(len(str2))"
   ]
  },
  {
   "cell_type": "code",
   "execution_count": 124,
   "id": "d6b7f5c8-24aa-4bdd-8508-4d9ab7f121bb",
   "metadata": {},
   "outputs": [
    {
     "name": "stdout",
     "output_type": "stream",
     "text": [
      "0 = p\n",
      "1 = w\n",
      "2 = s\n",
      "3 = k\n",
      "4 = i\n",
      "5 = l\n",
      "6 = l\n",
      "7 = s\n"
     ]
    }
   ],
   "source": [
    "for i in range(len(str2)):\n",
    "    print(i,\"=\",str2[i])"
   ]
  },
  {
   "cell_type": "code",
   "execution_count": 125,
   "id": "ffee44e3-441a-48c4-ae67-a77bd08b8ba2",
   "metadata": {},
   "outputs": [],
   "source": [
    "## we can index to iterate string reverse direction"
   ]
  },
  {
   "cell_type": "code",
   "execution_count": 126,
   "id": "21ef6cad-1a4a-45d1-91c3-627f5892d967",
   "metadata": {},
   "outputs": [
    {
     "data": {
      "text/plain": [
       "7"
      ]
     },
     "execution_count": 126,
     "metadata": {},
     "output_type": "execute_result"
    }
   ],
   "source": [
    "len(str2)-1"
   ]
  },
  {
   "cell_type": "code",
   "execution_count": 127,
   "id": "6b12e732-3d5d-4f23-830a-ea38e0bba02b",
   "metadata": {},
   "outputs": [
    {
     "name": "stdout",
     "output_type": "stream",
     "text": [
      "s\n",
      "l\n",
      "l\n",
      "i\n",
      "k\n",
      "s\n",
      "w\n",
      "p\n"
     ]
    }
   ],
   "source": [
    "string=\"pwskills\"\n",
    "ch=len(string)-1\n",
    "while ch>=0:\n",
    "    print(string[ch])\n",
    "    ch=ch-1"
   ]
  },
  {
   "cell_type": "code",
   "execution_count": 128,
   "id": "05e5ff04-3af1-4b60-b14c-a974d537d903",
   "metadata": {},
   "outputs": [
    {
     "data": {
      "text/plain": [
       "-1"
      ]
     },
     "execution_count": 128,
     "metadata": {},
     "output_type": "execute_result"
    }
   ],
   "source": [
    "ch"
   ]
  },
  {
   "cell_type": "code",
   "execution_count": 129,
   "id": "0ae20be9-86ef-4803-b5d4-5ba6a8379c97",
   "metadata": {},
   "outputs": [
    {
     "data": {
      "text/plain": [
       "('s', 'l', 'l')"
      ]
     },
     "execution_count": 129,
     "metadata": {},
     "output_type": "execute_result"
    }
   ],
   "source": [
    "string[7],string[6],string[5]"
   ]
  },
  {
   "cell_type": "code",
   "execution_count": 130,
   "id": "6440f6cb-a94f-4cec-80c9-082b1301b848",
   "metadata": {},
   "outputs": [],
   "source": [
    "while ch>=0:\n",
    "    print(string[ch])\n",
    "    Ch=ch-1"
   ]
  },
  {
   "cell_type": "code",
   "execution_count": 131,
   "id": "2029980d-bcdb-49ce-81d9-640ffa5a85a3",
   "metadata": {},
   "outputs": [
    {
     "name": "stdout",
     "output_type": "stream",
     "text": [
      "sllikswp"
     ]
    }
   ],
   "source": [
    "#Best solution\n",
    "for i in range(len(string)):\n",
    "    print(string[len(string) - (i+1)],end=\"\")"
   ]
  },
  {
   "cell_type": "code",
   "execution_count": 132,
   "id": "5f91f11b-71e1-4ced-b061-e2ce5a3be456",
   "metadata": {},
   "outputs": [],
   "source": [
    "Name = \"pwskills\"\n",
    "vowels = \"AaEeIiOoUu\""
   ]
  },
  {
   "cell_type": "code",
   "execution_count": 133,
   "id": "d7e9f5f4-4097-4a2a-b7b6-d1c4886c074c",
   "metadata": {},
   "outputs": [
    {
     "name": "stdout",
     "output_type": "stream",
     "text": [
      "p is not a vowel\n",
      "w is not a vowel\n",
      "s is not a vowel\n",
      "k is not a vowel\n",
      "i is a vowel\n",
      "l is not a vowel\n",
      "l is not a vowel\n",
      "s is not a vowel\n"
     ]
    }
   ],
   "source": [
    "for ch in Name:\n",
    "    if ch in vowels:\n",
    "        print(\"{} is a vowel\".format(ch))\n",
    "    else:\n",
    "        print(\"{} is not a vowel\".format(ch))"
   ]
  },
  {
   "cell_type": "code",
   "execution_count": null,
   "id": "bb184afe-377a-43da-bca1-bed09853867f",
   "metadata": {},
   "outputs": [],
   "source": []
  }
 ],
 "metadata": {
  "kernelspec": {
   "display_name": "Python 3 (ipykernel)",
   "language": "python",
   "name": "python3"
  },
  "language_info": {
   "codemirror_mode": {
    "name": "ipython",
    "version": 3
   },
   "file_extension": ".py",
   "mimetype": "text/x-python",
   "name": "python",
   "nbconvert_exporter": "python",
   "pygments_lexer": "ipython3",
   "version": "3.10.8"
  }
 },
 "nbformat": 4,
 "nbformat_minor": 5
}
